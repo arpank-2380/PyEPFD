{
 "cells": [
  {
   "cell_type": "markdown",
   "id": "397dd448",
   "metadata": {},
   "source": [
    "# 4.1 Stochastic Calculation of Band Gap Renormalization.\n",
    "In this example we will learn to do a stochastic Monte Carlo calculation for the band gap renormalization. For this type of calculation we need a phonon restart/checkpoint xml file using a Cartesian phonon calulcation or Normal Mode phonon calculation. \n",
    "\n",
    "This calulation is very similar to a normal-mode phonon calculation. First we generate the displacements and then using qbox we compute the total electronic energies and band energies for all displaced coordinates. Last step is very simple. We compute band gaps for each displaced coordinate average over all configurations. This would be our electron-phonon renormalized band gap at that particular temperature.\n",
    "\n",
    "We need to import pyepfd_io module to read the input file and we need coord_util module to create the displaced coordinate using the Monte Carlo / Stochastic method. Lets import them first."
   ]
  },
  {
   "cell_type": "code",
   "execution_count": 1,
   "id": "570f6fb2",
   "metadata": {},
   "outputs": [
    {
     "name": "stdout",
     "output_type": "stream",
     "text": [
      "                                                 \n",
      "          ███████████                            \n",
      "         ░░███░░░░░███                           \n",
      "          ░███    ░███ █████ ████                \n",
      "          ░██████████ ░░███ ░███                 \n",
      "          ░███░░░░░░   ░███ ░███                 \n",
      "          ░███         ░███ ░███                 \n",
      "          █████        ░░███████                 \n",
      "         ░░░░░          ░░░░░███                 \n",
      "                        ███ ░███                 \n",
      "                       ░░██████                  \n",
      "                        ░░░░░░                   \n",
      " ██████████ ███████████  ███████████ ██████████  \n",
      "░░███░░░░░█░░███░░░░░███░░███░░░░░░█░░███░░░░███ \n",
      " ░███  █ ░  ░███    ░███ ░███   █ ░  ░███   ░░███\n",
      " ░██████    ░██████████  ░███████    ░███    ░███\n",
      " ░███░░█    ░███░░░░░░   ░███░░░█    ░███    ░███\n",
      " ░███ ░   █ ░███         ░███  ░     ░███    ███ \n",
      " ██████████ █████        █████       ██████████  \n",
      "░░░░░░░░░░ ░░░░░        ░░░░░       ░░░░░░░░░░   \n",
      "PyEPFD version     :  1.1\n",
      "Author             : Arpan Kundu\n",
      "Author Email       : arpan.kundu@gmail.com\n",
      "Today              :  2024-12-18 17:33:22.591930\n",
      "*************************************************\n",
      "                   CITATIONS                     \n",
      "=================================================\n",
      "Please cite the following 3 references:          \n",
      "(1) A. Kundu et al, Phys. Rev. Mater (2021), 5,  \n",
      "L070801, \n",
      "(2) A. Kundu and G Galli, \n",
      "J. Chem. Theory. Comput. (2023), 19, 4011\n",
      "(3) https://pyepfd.readthedocs.io/en/latest/\n",
      "*************************************************\n"
     ]
    }
   ],
   "source": [
    "from pyepfd.coord_util import *\n",
    "from pyepfd.pyepfd_io import *"
   ]
  },
  {
   "cell_type": "markdown",
   "id": "997d2ff3",
   "metadata": {},
   "source": [
    "Next, we will read all information from the checkpoint/restart XML file created in the previous step, i.e., Cartesian phonon calculation. We would instantiate an object named sd_inp (stochastic displacement input) of class read_pyepfd_info that belongs to coord_util object. The class read_pyepfd_info has several objects such as acoustic sum rule (asr), refined dynamical matrix (ref_dynmatrix), optimized coordinates(coord), atoms and cell. "
   ]
  },
  {
   "cell_type": "code",
   "execution_count": 2,
   "id": "1c26f590",
   "metadata": {},
   "outputs": [
    {
     "name": "stdout",
     "output_type": "stream",
     "text": [
      "Process-id0: Time spent on read_pyepfd_info class: 0.0005590915679931641 s.\n"
     ]
    }
   ],
   "source": [
    "sd_inp = read_pyepfd_info(file_path='../1_cartesian_phonon/fdphonon.xml')"
   ]
  },
  {
   "cell_type": "markdown",
   "id": "f79759fb",
   "metadata": {},
   "source": [
    "Now we will define the input dynamical matrix for stochastic displacement. If refined dynamical matrix (i.e. after performing acoustic sum rule) exists, it would take that one, otherwise it would take dynamical matrix object."
   ]
  },
  {
   "cell_type": "code",
   "execution_count": 3,
   "id": "08abb5ee",
   "metadata": {},
   "outputs": [],
   "source": [
    "if sd_inp.ref_dynmatrix is not None:\n",
    "    inp_dynmat = sd_inp.ref_dynmatrix\n",
    "else:\n",
    "    inp_dynmat = sd_inp.dynmatrix"
   ]
  },
  {
   "cell_type": "markdown",
   "id": "e2a6c244",
   "metadata": {},
   "source": [
    "Now we will initiate an xyz class in writing mode. Atoms are obtained from atom objects in sd_inp class"
   ]
  },
  {
   "cell_type": "code",
   "execution_count": 4,
   "id": "ef1daf11",
   "metadata": {},
   "outputs": [
    {
     "name": "stdout",
     "output_type": "stream",
     "text": [
      "Time spent on xyz class: 0.00039124488830566406 s.\n"
     ]
    }
   ],
   "source": [
    "sd_xyz = xyz(file_path='mcap.xyz',io='w',atoms=sd_inp.atoms)"
   ]
  },
  {
   "cell_type": "markdown",
   "id": "47eb85e7",
   "metadata": {},
   "source": [
    "Like displacing the atoms during a (E)NMFD phonon calculation, we instantiate an object named sdmoves (stochastic displacement moves) of ionic_mover class. Here we would use mode = 'SD', i.e. stochastic displacement. \n",
    "\n",
    "Moreover, we need to provide an algorithm (algo keyword) for stochastic displacement. 6 algorithms are available: \n",
    "(1)oneshot ('os'), \n",
    "\n",
    "(2)oneshot with antithetic pair ('osap'),\n",
    "\n",
    "(3)one shot with random sample of signs (osr), this is equivalent to thermal line sampling, see https://journals.aps.org/prb/abstract/10.1103/PhysRevB.93.014302\n",
    "\n",
    "(4) Same like 'osr' but with antithetic pairs.\n",
    "\n",
    "(5)Monte Carlo Sampling of Normal Modes ('mc')\n",
    "\n",
    "(6) Same as 'mc' but with antithetic pairs of each chosen random sample.\n",
    "\n",
    "Usually algorithm with antithetic pairs are recommended. Below example we are choosing MCAP. \n",
    "\n",
    "Here ngrid is the number of independent samples to be drawn for algorithms 3-6 described above. If an algorithm has antithetic pairs in it then actual numbers of configuration would be 2 times ngrid. In the below example chosen value of ngrid is 250 and so it would generate 500 configurations.\n",
    "\n",
    "We also need to chose a temperature. In the below example it is 100 K\n",
    "\n",
    "Therefore, the definition of sdmoves class would read as:"
   ]
  },
  {
   "cell_type": "code",
   "execution_count": 5,
   "id": "28d9bdc5",
   "metadata": {},
   "outputs": [
    {
     "name": "stdout",
     "output_type": "stream",
     "text": [
      "ionic_mover._stoch_disp(mcap,250) is running with 1 MPI processes.\n",
      "Process-id = 0: 10% of SD iterations completed.\n",
      "Process-id = 0: 20% of SD iterations completed.\n",
      "Process-id = 0: 30% of SD iterations completed.\n",
      "Process-id = 0: 40% of SD iterations completed.\n",
      "Process-id = 0: 50% of SD iterations completed.\n",
      "Process-id = 0: 60% of SD iterations completed.\n",
      "Process-id = 0: 70% of SD iterations completed.\n",
      "Process-id = 0: 80% of SD iterations completed.\n",
      "Process-id = 0: 90% of SD iterations completed.\n",
      "Process-id = 0: 100% of SD iterations completed.\n",
      "Time spent on ionic_mover class: 0.026976823806762695 s.\n"
     ]
    }
   ],
   "source": [
    "sdmoves = ionic_mover( atoms = sd_inp.atoms,\n",
    "                       opt_coord = sd_inp.coord, \n",
    "                       mode = 'SD', \n",
    "                       algo ='mcap', \n",
    "                       ngrid = 250,\n",
    "                       dynmat = inp_dynmat,\n",
    "                       asr = sd_inp.asr,\n",
    "                       temperature = 100)"
   ]
  },
  {
   "cell_type": "markdown",
   "id": "31924b06",
   "metadata": {},
   "source": [
    "Now all the displaced coordinates are stored within sdmoves object. Next step is to write them into an xyz file using the sd_xyz class we initiated before. Note,this process is mpi parallelized."
   ]
  },
  {
   "cell_type": "code",
   "execution_count": 6,
   "id": "4b35e228",
   "metadata": {},
   "outputs": [],
   "source": [
    "for j in range(sdmoves.disp_coord.shape[1]):\n",
    "    sd_xyz.write(cell = sd_inp.cell,coord = sdmoves.disp_coord[:,j])\n",
    "del sd_xyz     "
   ]
  },
  {
   "cell_type": "code",
   "execution_count": 7,
   "id": "6f33517c",
   "metadata": {},
   "outputs": [
    {
     "name": "stdout",
     "output_type": "stream",
     "text": [
      "mcap.xyz\n"
     ]
    }
   ],
   "source": [
    "%%bash \n",
    "ls mcap.xyz"
   ]
  },
  {
   "cell_type": "markdown",
   "id": "b2c29089",
   "metadata": {},
   "source": [
    "Note that the last step was a Monte Carlo simulation that involves pseudo random numbers. Therefore each time you run the sdmoves class it would create a different set of displaced coordinates. Only one OS and OSAP algorithms would produce the same set of coordinates because it does not involves any pseudo random numbers. Let us restart the kernel for completion of the file writing.\n",
    "\n",
    "Also all code blocks can be included in a single file: mcap.py. In the following example we have written the mcap.py so that it accepts 2 command line arguments: (1) path to the XML restart file and (2) temperature.Let's have a look at this file again.  "
   ]
  },
  {
   "cell_type": "code",
   "execution_count": null,
   "id": "d54d6394",
   "metadata": {},
   "outputs": [],
   "source": [
    "# %load mcap.py\n",
    "import sys,os\n",
    "from pyepfd.coord_util import *\n",
    "from pyepfd.pyepfd_io import *\n",
    "\n",
    "#usage python3 mcap.py phonon_file T\n",
    "\n",
    "phonon_file = sys.argv[1]\n",
    "T = sys.argv[2]\n",
    "\n",
    "sd_inp = read_pyepfd_info(file_path = phonon_file)\n",
    "\n",
    "if sd_inp.ref_dynmatrix is not None:\n",
    "    inp_dynmat = sd_inp.ref_dynmatrix\n",
    "else:\n",
    "    inp_dynmat = sd_inp.dynmatrix\n",
    "\n",
    "# creating an xyz class to write the trajectory\n",
    "sd_xyz = xyz(file_path=f'{T}K.xyz',io='w',atoms=sd_inp.atoms)\n",
    "\n",
    "# Calling ionic mover class to perform Monte Carlo Antethetic Pair (MCAP) displacements\n",
    "sdmoves = ionic_mover( atoms = sd_inp.atoms,\n",
    "                       opt_coord = sd_inp.coord,\n",
    "                       mode = 'SD',\n",
    "                       algo ='mcap',\n",
    "                       ngrid = 250,\n",
    "                       dynmat = inp_dynmat,\n",
    "                       asr = sd_inp.asr,\n",
    "                       temperature = float(T))\n",
    "\n",
    "for j in range(sdmoves.disp_coord.shape[1]):\n",
    "    sd_xyz.write(cell = sd_inp.cell,coord = sdmoves.disp_coord[:,j])\n",
    "del sd_xyz\n"
   ]
  },
  {
   "cell_type": "markdown",
   "id": "9cb0e9a0",
   "metadata": {},
   "source": [
    "Now we will run the script using mpi process."
   ]
  },
  {
   "cell_type": "code",
   "execution_count": 8,
   "id": "9675b5d6",
   "metadata": {},
   "outputs": [
    {
     "name": "stdout",
     "output_type": "stream",
     "text": [
      "                                                 \n",
      "          ███████████                            \n",
      "         ░░███░░░░░███                           \n",
      "          ░███    ░███ █████ ████                \n",
      "          ░██████████ ░░███ ░███                 \n",
      "          ░███░░░░░░   ░███ ░███                 \n",
      "          ░███         ░███ ░███                 \n",
      "          █████        ░░███████                 \n",
      "         ░░░░░          ░░░░░███                 \n",
      "                        ███ ░███                 \n",
      "                       ░░██████                  \n",
      "                        ░░░░░░                   \n",
      " ██████████ ███████████  ███████████ ██████████  \n",
      "░░███░░░░░█░░███░░░░░███░░███░░░░░░█░░███░░░░███ \n",
      " ░███  █ ░  ░███    ░███ ░███   █ ░  ░███   ░░███\n",
      " ░██████    ░██████████  ░███████    ░███    ░███\n",
      " ░███░░█    ░███░░░░░░   ░███░░░█    ░███    ░███\n",
      " ░███ ░   █ ░███         ░███  ░     ░███    ███ \n",
      " ██████████ █████        █████       ██████████  \n",
      "░░░░░░░░░░ ░░░░░        ░░░░░       ░░░░░░░░░░   \n",
      "PyEPFD version     :  1.1\n",
      "Author             : Arpan Kundu\n",
      "Author Email       : arpan.kundu@gmail.com\n",
      "Today              :  2024-12-18 17:40:01.930879\n",
      "*************************************************\n",
      "                   CITATIONS                     \n",
      "=================================================\n",
      "Please cite the following 3 references:          \n",
      "(1) A. Kundu et al, Phys. Rev. Mater (2021), 5,  \n",
      "L070801, \n",
      "(2) A. Kundu and G Galli, \n",
      "J. Chem. Theory. Comput. (2023), 19, 4011\n",
      "(3) https://pyepfd.readthedocs.io/en/latest/\n",
      "*************************************************\n",
      "Process-id0: Time spent on read_pyepfd_info class: 0.0003077983856201172 s.\n",
      "Time spent on xyz class: 6.985664367675781e-05 s.\n",
      "ionic_mover._stoch_disp(mcap,250) is running with 2 MPI processes.\n",
      "Process-id = 0: 10% of SD iterations completed.\n",
      "Process-id = 0: 20% of SD iterations completed.\n",
      "Process-id = 0: 30% of SD iterations completed.\n",
      "Process-id = 0: 40% of SD iterations completed.\n",
      "Process-id = 0: 50% of SD iterations completed.\n",
      "Process-id = 0: 60% of SD iterations completed.\n",
      "Process-id = 0: 70% of SD iterations completed.\n",
      "Process-id = 0: 80% of SD iterations completed.\n",
      "Process-id = 0: 90% of SD iterations completed.\n",
      "Process-id = 0: 100% of SD iterations completed.\n",
      "Time spent on ionic_mover class: 0.015214920043945312 s.\n"
     ]
    }
   ],
   "source": [
    "%%bash\n",
    "mpirun -np 2 python3 mcap.py ../1_cartesian_phonon/fdphonon.xml 100"
   ]
  },
  {
   "cell_type": "markdown",
   "id": "020d6b0f",
   "metadata": {},
   "source": [
    "This would create a file 100K.xyz containing the trajectory."
   ]
  },
  {
   "cell_type": "code",
   "execution_count": 11,
   "id": "760f0bf3",
   "metadata": {},
   "outputs": [
    {
     "name": "stdout",
     "output_type": "stream",
     "text": [
      "100K.xyz\n",
      "mcap.xyz\n",
      "saved_example.xyz\n"
     ]
    }
   ],
   "source": [
    "%%bash \n",
    "ls *.xyz"
   ]
  },
  {
   "cell_type": "markdown",
   "id": "f988ae2b",
   "metadata": {},
   "source": [
    "The next step is to prepare the qbox input files for computation of electronic properties, e.g., band energies for these configurations. This step is very similar to the previous examples 1.2 and 2.2. We will use xyz2qb tool. In this case we do not need to save the wave functions (unlike example 2.2)."
   ]
  },
  {
   "cell_type": "code",
   "execution_count": 12,
   "id": "046a65cd",
   "metadata": {},
   "outputs": [
    {
     "name": "stdout",
     "output_type": "stream",
     "text": [
      "\u001b[95mFile \u001b[94mmcap.xyz\u001b[95m has \u001b[94m3\u001b[95m number of atoms in each frame and a total \u001b[94m500\u001b[95m number of frames.\u001b[00m\n",
      "\u001b[95mNo of species: \u001b[94m2\u001b[00m\n",
      "\u001b[95mPresent species are: \u001b[94m\n",
      "C\n",
      "O\u001b[00m\n",
      "\u001b[95mThe file \u001b[94mmcap.xyz\u001b[95m is an i-PI output with\u001b[92m pos_unit: \u001b[94mangstrom\u001b[95m and \u001b[92mcell_unit: \u001b[94mangstrom\u001b[00m\n",
      "Enter start frame number: (Default = 1) \n",
      "Enter last frame number: (Default = 500) \n",
      "Enter step frame: (Default = 1) \n",
      "Enter qbox command for 1st iteration: (Default = '  randomize_wf, run -atomic_density 0 100 10')\n",
      "Hint: more than one commands should be separated by a comma.\n",
      "\n",
      "Enter qbox run command: (Default = '  run 0 60 10')\n",
      "Hint: more than one commands should be separated by a comma.\n",
      "\n",
      "Enter qbox plot command: (Default = ' None')\n",
      "Hints:\n",
      "      (1) Example: plot options filename (without .cube extension) \n",
      "      (2) More than one commands should be separated by a comma.\n",
      "\n",
      "Enter qbox spectrum command: (Default = ' None')\n",
      "Hints:\n",
      "      (1) Example: spectrum options filename (without .dat extension) \n",
      " \n",
      "Do you want to save sample for each configurations (y/n)? (Default = n) \n",
      "Enter filename of qbox input: (Default = qbox.i) mcap-1.i\n",
      "Enter xc: (Default = PBE)B3LYP\n",
      "Enter wf_dyn: (Default = JD) \n",
      "Enter ecut (Ry): (Default = 50.0) \n",
      "Enter scf_tol (Ry): (Default = 1e-08) 1e-9\n",
      "Enter nempty: (Default = 100) 8\n",
      "Enter nspin (1/2): (Default = 1) \n",
      "Enter delta_spin: (Default = None) \n",
      "Enter net_charge: (Default = 0) \n",
      "Enter pseudopotential: (Default = ONCV_PBE-1.0) \n",
      "\u001b[91mWarning!\n",
      "Files: \u001b[94m\n",
      "C_ONCV_PBE-1.0.xml\n",
      "O_ONCV_PBE-1.0.xml\u001b[91m\n",
      "must be present in the following pseudo-potential directory.\n",
      "\u001b[00m../pseudos/\n"
     ]
    }
   ],
   "source": [
    "%run ../../../utils/qbox_utils/xyz2qb.py mcap.xyz"
   ]
  },
  {
   "cell_type": "markdown",
   "id": "4ba45692",
   "metadata": {},
   "source": [
    "This created a qbox input file with name mcap-1.i. Just like example 1.2, here also multiple input file can be (must for a large system) created. For that purpose the bash wrapper many_xyz2qb.sh located at util/qbox_util folder can be used instead of running xyz2qb.py multiple times. The next step is to submit those jobs and wait until all calculations finished properly.\n",
    "\n",
    "Here we already computed the HOMO-LUMOs for a set of MC trajectory (saved_example.xyz) generated for the same temperature and same algorithm. The related qbox input file is saved_example-1.i and the output file is saved_example-1.r. Taking this output file as an example, I will show how to compute renormalized bad gap. \n",
    "\n",
    "First we will extract the Kon-Sham eigenvalues for HOMO (band 7,8) and LUMO."
   ]
  },
  {
   "cell_type": "code",
   "execution_count": 13,
   "id": "c0d2f5ec",
   "metadata": {},
   "outputs": [],
   "source": [
    "%%bash\n",
    "source ../../../env.sh\n",
    "rm -rf Eigenvalues #Removing the previous existing Eigenvalues folder\n",
    "extract_eigval.sh -prefix saved_example -seq 1 1 -orb 7 9"
   ]
  },
  {
   "cell_type": "code",
   "execution_count": 14,
   "id": "2552ddb4",
   "metadata": {},
   "outputs": [
    {
     "name": "stdout",
     "output_type": "stream",
     "text": [
      "#Orbital-7\t#Orbital-8\t#Orbital-9\n",
      "-10.487170364117\t-10.477806462848\t-1.023844849688\n",
      "-10.491930996223\t-10.476740223367\t-1.056185101151\n",
      "-10.485337121956\t-10.475223504189\t-1.081698326149\n",
      "-10.465087173793\t-10.443357728981\t-1.267443801201\n",
      "-10.472053419490\t-10.465358595320\t-0.970187929921\n",
      "-10.512543172977\t-10.512527824290\t-0.898384711847\n",
      "-10.527799679100\t-10.517207132901\t-0.923443428935\n",
      "-10.478123219864\t-10.462103393953\t-1.148608321486\n",
      "-10.339938214676\t-10.339440662568\t-0.954741724093\n",
      "-10.423617068754\t-10.401157571192\t-1.244167491779\n",
      "-10.532306461367\t-10.529566959494\t-0.894040197086\n",
      "-10.409028400597\t-10.399754091388\t-1.076863441171\n",
      "-10.477285216996\t-10.465041191181\t-1.139326536596\n",
      "-10.448040183680\t-10.431506465550\t-1.111545941111\n",
      "-10.478714643717\t-10.467120526323\t-1.114443749835\n",
      "-10.491228021287\t-10.489006381255\t-0.958756414210\n",
      "-10.487713978646\t-10.474126658401\t-0.999063507444\n",
      "-10.486938627166\t-10.481050436941\t-1.025233757119\n",
      "-10.421068833951\t-10.403397269651\t-1.193176789321\n",
      "-10.375467136826\t-10.371551646788\t-1.016743984958\n",
      "-10.403133578003\t-10.399024563790\t-0.977891719837\n",
      "-10.499967797745\t-10.497579430661\t-0.966816043298\n",
      "-10.454634021664\t-10.454160120113\t-1.003325292033\n",
      "-10.528476645895\t-10.524321592394\t-0.906084170125\n"
     ]
    }
   ],
   "source": [
    "%%bash\n",
    "head -n 25 orbital_kp_0_0_0_is_0.dat"
   ]
  },
  {
   "cell_type": "markdown",
   "id": "9bf57bc7",
   "metadata": {},
   "source": [
    "Generated orbital_kp_0_0_0.dat file lists energies for bands 7,8 (HOMO) and 9 (LUMO) for all 500 sampled configurations. We will compute the average HOMO energy for each configurations by taking the average energies of band 7 and 8. Then we compute the band gap for each configurations by subtracting the average HOMO energy from LUMO energy (band 9). \n",
    "\n",
    "This can be easily done using an \"awk\" command."
   ]
  },
  {
   "cell_type": "code",
   "execution_count": 15,
   "id": "ec5bd174",
   "metadata": {},
   "outputs": [
    {
     "name": "stdout",
     "output_type": "stream",
     "text": [
      "9.45864\n",
      "9.42815\n",
      "9.39858\n",
      "9.18678\n",
      "9.49852\n",
      "9.61415\n",
      "9.59906\n",
      "9.3215\n",
      "9.38495\n",
      "9.16822\n",
      "9.6369\n",
      "9.32753\n",
      "9.33184\n",
      "9.32823\n",
      "9.35847\n",
      "9.53136\n",
      "9.48186\n",
      "9.45876\n",
      "9.21906\n",
      "9.35677\n",
      "9.42319\n",
      "9.53196\n",
      "9.45107\n",
      "9.62031\n",
      "9.61705\n"
     ]
    }
   ],
   "source": [
    "%%bash\n",
    "awk '{print $3-($1+$2)/2}' orbital_kp_0_0_0_is_0.dat | sed '1d' > gap.dat\n",
    "head -n 25 gap.dat"
   ]
  },
  {
   "cell_type": "markdown",
   "id": "c766dcb9",
   "metadata": {},
   "source": [
    "To obtain the renormalized gap, the next step is to average over all 500 configurations. "
   ]
  },
  {
   "cell_type": "code",
   "execution_count": 16,
   "id": "06fa1d29",
   "metadata": {},
   "outputs": [
    {
     "data": {
      "image/png": "[encoded data removed]",
      "text/plain": [
       "<Figure size 640x480 with 1 Axes>"
      ]
     },
     "metadata": {},
     "output_type": "display_data"
    }
   ],
   "source": [
    "from pyepfd.epfd import mc_convergence\n",
    "import matplotlib.pyplot as plt\n",
    "co2_100K = mc_convergence(file_path='gap.dat',algo='mcap', usecols=(0))\n",
    "mc = co2_100K.avg[:,0] #Our gap was in column 0 of the file\n",
    "emc = 2*co2_100K.sd_mean[:,0] # Error is 2 times standard deviation of mean\n",
    "plt.plot( [i+1 for i in range(len(mc))], mc, label='MC')\n",
    "plt.fill_between([i+1 for i in range(len(mc))], mc + emc, mc - emc, alpha = 0.3)\n",
    "plt.xlabel(\"# of independent samples\")\n",
    "plt.ylabel(\"Renormalized Gap (eV)\")\n",
    "plt.show()"
   ]
  },
  {
   "cell_type": "code",
   "execution_count": null,
   "id": "4f94cc0a",
   "metadata": {},
   "outputs": [],
   "source": []
  }
 ],
 "metadata": {
  "kernelspec": {
   "display_name": "Python 3 (ipykernel)",
   "language": "python",
   "name": "python3"
  },
  "language_info": {
   "codemirror_mode": {
    "name": "ipython",
    "version": 3
   },
   "file_extension": ".py",
   "mimetype": "text/x-python",
   "name": "python",
   "nbconvert_exporter": "python",
   "pygments_lexer": "ipython3",
   "version": "3.8.10"
  }
 },
 "nbformat": 4,
 "nbformat_minor": 5
}
