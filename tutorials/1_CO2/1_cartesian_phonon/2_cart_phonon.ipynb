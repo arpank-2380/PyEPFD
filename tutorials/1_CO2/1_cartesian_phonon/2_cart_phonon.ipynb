{
 "cells": [
  {
   "cell_type": "markdown",
   "id": "19f40da4",
   "metadata": {},
   "source": [
    "# 1.1.2 Preparing Qbox Input Files from the XYZ file with Displaced Coordinates\n",
    "\n",
    "In the last step we obtained an xyz file containing all displaced coordinates. Now we would create single/multiple qbox input files. Each input files can be submitted as separate jobs to harness the many available nodes. For this example we would divide them into two jobs, the first one with 10 configurations and 2nd one with 9 configurations. To convert xyz files into qbox inputs we would use xyz2qbox tool which is available within util/qbox_tools folder of the pyepfd distribution. The xyz2qbox is a command-line tool that asks several questions (for example functional, ecuts, pseudopotentials etc.) using prompts and user has to answer them."
   ]
  },
  {
   "cell_type": "code",
   "execution_count": 1,
   "id": "da1ba07a",
   "metadata": {},
   "outputs": [
    {
     "name": "stdout",
     "output_type": "stream",
     "text": [
      "\u001b[95mFile \u001b[94mfd_phonon.xyz\u001b[95m has \u001b[94m3\u001b[95m number of atoms in each frame and a total \u001b[94m19\u001b[95m number of frames.\u001b[00m\n",
      "\u001b[95mNo of species: \u001b[94m2\u001b[00m\n",
      "\u001b[95mPresent species are: \u001b[94m\n",
      "C_species\n",
      "O_species\u001b[00m\n",
      "\u001b[95mThe file \u001b[94mfd_phonon.xyz\u001b[95m is an i-PI output with\u001b[92m pos_unit: \u001b[94mangstrom\u001b[95m and \u001b[92mcell_unit: \u001b[94mangstrom\u001b[00m\n",
      "Enter start frame number: (Default = 1) \n",
      "Enter last frame number: (Default = 19) 10\n",
      "Enter step frame: (Default = 1) \n",
      "Enter qbox command for 1st iteration: (Default = '  randomize_wf, run -atomic_density 0 100 10')\n",
      "Hint: more than one commands should be separated by a comma.\n",
      "\n",
      "Enter qbox run command: (Default = '  run 0 60 10')\n",
      "Hint: more than one commands should be separated by a comma.\n",
      "\n",
      "Enter qbox plot command: (Default = ' None')\n",
      "Hints:\n",
      "      (1) Example: plot options filename (without .cube extension) \n",
      "      (2) More than one commands should be separated by a comma.\n",
      "\n",
      "Enter qbox spectrum command: (Default = ' None')\n",
      "Hints:\n",
      "      (1) Example: spectrum options filename (without .dat extension) \n",
      " \n",
      "Do you want to save sample for each configurations (y/n)? (Default = n) \n",
      "Enter filename of qbox input: (Default = qbox.i) fd-1.i\n",
      "Enter xc: (Default = PBE)B3LYP\n",
      "Enter wf_dyn: (Default = JD) PSDA\n",
      "Enter ecut (Ry): (Default = 50.0) \n",
      "Enter scf_tol (Ry): (Default = 1e-08) 1e-12\n",
      "Enter nempty: (Default = 100) 0\n",
      "Enter nspin (1/2): (Default = 1) \n",
      "Enter delta_spin: (Default = None) \n",
      "Enter net_charge: (Default = 0) \n",
      "Enter pseudopotential: (Default = ONCV_PBE-1.0) \n",
      "\u001b[91mWarning!\n",
      "Files: \u001b[94m\n",
      "C_ONCV_PBE-1.0.xml\n",
      "O_ONCV_PBE-1.0.xml\u001b[91m\n",
      "must be present in the following pseudo-potential directory.\n",
      "\u001b[00m../pseudos/\n"
     ]
    }
   ],
   "source": [
    "%run ../../../utils/qbox_utils/xyz2qb.py fd_phonon.xyz"
   ]
  },
  {
   "cell_type": "markdown",
   "id": "fa79efd0",
   "metadata": {},
   "source": [
    "This created a qbox input file named fd-1.i with 10 displacements. Now we similarly create another input file starting from frame 11 up to frame 19. This coul be run many times to create several input file using the bash wrapper named many_xyz2qb.sh that can be found at util/qbox_util folder. In the bash script all the default options must be set accordingly."
   ]
  },
  {
   "cell_type": "code",
   "execution_count": 4,
   "id": "cff64186",
   "metadata": {},
   "outputs": [],
   "source": [
    "quit"
   ]
  },
  {
   "cell_type": "code",
   "execution_count": 1,
   "id": "369b15cc",
   "metadata": {},
   "outputs": [
    {
     "name": "stdout",
     "output_type": "stream",
     "text": [
      " set xc B3LYP \n",
      " set wf_dyn PSDA \n",
      " set ecut  50.00\n",
      " set scf_tol 1.00e-12\n",
      " species  C_species ../pseudos/C_ONCV_PBE-1.0.xml\n",
      " species  O_species ../pseudos/O_ONCV_PBE-1.0.xml\n",
      "# Frame 1/19 from fd_phonon.xyz#\n",
      " set cell     20.000000     0.000000     0.000000     0.000000    20.000000     0.000000     0.000000     0.000000    20.000000\n",
      " atom   O1   O_species     0.000000       0.000000       2.186664\n",
      " atom   O2   O_species     0.000000       0.000000      -2.186661\n",
      " atom   C3   C_species     0.000000       0.000000      -0.000003\n",
      " randomize_wf\n",
      " run -atomic_density 0 100 10\n",
      "# Frame 2/19 from fd_phonon.xyz#\n",
      " set cell     20.000000     0.000000     0.000000     0.000000    20.000000     0.000000     0.000000     0.000000    20.000000\n",
      " move   O1   to        0.005000       0.000000       2.186664\n",
      " move   O2   to        0.000000       0.000000      -2.186661\n",
      " move   C3   to        0.000000       0.000000      -0.000003\n",
      " run 0 60 10\n",
      "# Frame 3/19 from fd_phonon.xyz#\n",
      " set cell     20.000000     0.000000     0.000000     0.000000    20.000000     0.000000     0.000000     0.000000    20.000000\n",
      " move   O1   to       -0.005000       0.000000       2.186664\n",
      " move   O2   to        0.000000       0.000000      -2.186661\n",
      " move   C3   to        0.000000       0.000000      -0.000003\n",
      " run 0 60 10\n",
      "# Frame 4/19 from fd_phonon.xyz#\n",
      " set cell     20.000000     0.000000     0.000000     0.000000    20.000000     0.000000     0.000000     0.000000    20.000000\n",
      " move   O1   to        0.000000       0.005000       2.186664\n",
      " move   O2   to        0.000000       0.000000      -2.186661\n",
      " move   C3   to        0.000000       0.000000      -0.000003\n",
      " run 0 60 10\n",
      "# Frame 5/19 from fd_phonon.xyz#\n",
      " set cell     20.000000     0.000000     0.000000     0.000000    20.000000     0.000000     0.000000     0.000000    20.000000\n",
      " move   O1   to        0.000000      -0.005000       2.186664\n",
      " move   O2   to        0.000000       0.000000      -2.186661\n",
      " move   C3   to        0.000000       0.000000      -0.000003\n",
      " run 0 60 10\n",
      "# Frame 6/19 from fd_phonon.xyz#\n",
      " set cell     20.000000     0.000000     0.000000     0.000000    20.000000     0.000000     0.000000     0.000000    20.000000\n",
      " move   O1   to        0.000000       0.000000       2.191664\n",
      " move   O2   to        0.000000       0.000000      -2.186661\n",
      " move   C3   to        0.000000       0.000000      -0.000003\n",
      " run 0 60 10\n",
      "# Frame 7/19 from fd_phonon.xyz#\n",
      " set cell     20.000000     0.000000     0.000000     0.000000    20.000000     0.000000     0.000000     0.000000    20.000000\n",
      " move   O1   to        0.000000       0.000000       2.181664\n",
      " move   O2   to        0.000000       0.000000      -2.186661\n",
      " move   C3   to        0.000000       0.000000      -0.000003\n",
      " run 0 60 10\n",
      "# Frame 8/19 from fd_phonon.xyz#\n",
      " set cell     20.000000     0.000000     0.000000     0.000000    20.000000     0.000000     0.000000     0.000000    20.000000\n",
      " move   O1   to        0.000000       0.000000       2.186664\n",
      " move   O2   to        0.005000       0.000000      -2.186661\n",
      " move   C3   to        0.000000       0.000000      -0.000003\n",
      " run 0 60 10\n",
      "# Frame 9/19 from fd_phonon.xyz#\n",
      " set cell     20.000000     0.000000     0.000000     0.000000    20.000000     0.000000     0.000000     0.000000    20.000000\n",
      " move   O1   to        0.000000       0.000000       2.186664\n",
      " move   O2   to       -0.005000       0.000000      -2.186661\n",
      " move   C3   to        0.000000       0.000000      -0.000003\n",
      " run 0 60 10\n",
      "# Frame 10/19 from fd_phonon.xyz#\n",
      " set cell     20.000000     0.000000     0.000000     0.000000    20.000000     0.000000     0.000000     0.000000    20.000000\n",
      " move   O1   to        0.000000       0.000000       2.186664\n",
      " move   O2   to        0.000000       0.005000      -2.186661\n",
      " move   C3   to        0.000000       0.000000      -0.000003\n",
      " run 0 60 10\n"
     ]
    }
   ],
   "source": [
    "%%bash\n",
    "cat fd-1.i"
   ]
  },
  {
   "cell_type": "code",
   "execution_count": 2,
   "id": "066368a6",
   "metadata": {},
   "outputs": [
    {
     "name": "stdout",
     "output_type": "stream",
     "text": [
      "\u001b[95mFile \u001b[94mfd_phonon.xyz\u001b[95m has \u001b[94m3\u001b[95m number of atoms in each frame and a total \u001b[94m19\u001b[95m number of frames.\u001b[00m\n",
      "\u001b[95mNo of species: \u001b[94m2\u001b[00m\n",
      "\u001b[95mPresent species are: \u001b[94m\n",
      "O_species\n",
      "C_species\u001b[00m\n",
      "\u001b[95mThe file \u001b[94mfd_phonon.xyz\u001b[95m is an i-PI output with\u001b[92m pos_unit: \u001b[94mangstrom\u001b[95m and \u001b[92mcell_unit: \u001b[94mangstrom\u001b[00m\n",
      "Enter start frame number: (Default = 1) 11\n",
      "Enter last frame number: (Default = 19) \n",
      "Enter step frame: (Default = 1) \n",
      "Enter qbox command for 1st iteration: (Default = '  randomize_wf, run -atomic_density 0 100 10')\n",
      "Hint: more than one commands should be separated by a comma.\n",
      "\n",
      "Enter qbox run command: (Default = '  run 0 60 10')\n",
      "Hint: more than one commands should be separated by a comma.\n",
      "\n",
      "Enter qbox plot command: (Default = ' None')\n",
      "Hints:\n",
      "      (1) Example: plot options filename (without .cube extension) \n",
      "      (2) More than one commands should be separated by a comma.\n",
      "\n",
      "Enter qbox spectrum command: (Default = ' None')\n",
      "Hints:\n",
      "      (1) Example: spectrum options filename (without .dat extension) \n",
      " \n",
      "Do you want to save sample for each configurations (y/n)? (Default = n) \n",
      "Enter filename of qbox input: (Default = qbox.i) fd-2.i\n",
      "Enter xc: (Default = PBE)B3LYP\n",
      "Enter wf_dyn: (Default = JD) PSDA\n",
      "Enter ecut (Ry): (Default = 50.0) \n",
      "Enter scf_tol (Ry): (Default = 1e-08) 1e-12\n",
      "Enter nempty: (Default = 100) 0\n",
      "Enter nspin (1/2): (Default = 1) \n",
      "Enter delta_spin: (Default = None) \n",
      "Enter net_charge: (Default = 0) \n",
      "Enter pseudopotential: (Default = ONCV_PBE-1.0) \n",
      "\u001b[91mWarning!\n",
      "Files: \u001b[94m\n",
      "O_ONCV_PBE-1.0.xml\n",
      "C_ONCV_PBE-1.0.xml\u001b[91m\n",
      "must be present in the following pseudo-potential directory.\n",
      "\u001b[00m../pseudos/\n"
     ]
    }
   ],
   "source": [
    "%run ../../../utils/qbox_utils/xyz2qb.py fd_phonon.xyz"
   ]
  },
  {
   "cell_type": "markdown",
   "id": "5c477eeb",
   "metadata": {},
   "source": [
    "Remember to use the same prefix for each qbox job, i.e., the jobs names should be fd-1.i, fd-2.i, fd-3.i, ..... and the qbox outputs would be fd-1.r, fd-2.r, fd-3.r, ... and so on. The next step is to submit those jobs and wait until all calculations finished properly. "
   ]
  },
  {
   "cell_type": "code",
   "execution_count": 3,
   "id": "41c2c189",
   "metadata": {},
   "outputs": [],
   "source": [
    "quit"
   ]
  },
  {
   "cell_type": "code",
   "execution_count": 1,
   "id": "8c44b43c",
   "metadata": {},
   "outputs": [
    {
     "name": "stdout",
     "output_type": "stream",
     "text": [
      " set xc B3LYP \n",
      " set wf_dyn PSDA \n",
      " set ecut  50.00\n",
      " set scf_tol 1.00e-12\n",
      " species  C_species ../pseudos/C_ONCV_PBE-1.0.xml\n",
      " species  O_species ../pseudos/O_ONCV_PBE-1.0.xml\n",
      "# Frame 11/19 from fd_phonon.xyz#\n",
      " set cell     20.000000     0.000000     0.000000     0.000000    20.000000     0.000000     0.000000     0.000000    20.000000\n",
      " atom   O1   O_species     0.000000       0.000000       2.186664\n",
      " atom   O2   O_species     0.000000      -0.005000      -2.186661\n",
      " atom   C3   C_species     0.000000       0.000000      -0.000003\n",
      " randomize_wf\n",
      " run -atomic_density 0 100 10\n",
      "# Frame 12/19 from fd_phonon.xyz#\n",
      " set cell     20.000000     0.000000     0.000000     0.000000    20.000000     0.000000     0.000000     0.000000    20.000000\n",
      " move   O1   to        0.000000       0.000000       2.186664\n",
      " move   O2   to        0.000000       0.000000      -2.181661\n",
      " move   C3   to        0.000000       0.000000      -0.000003\n",
      " run 0 60 10\n",
      "# Frame 13/19 from fd_phonon.xyz#\n",
      " set cell     20.000000     0.000000     0.000000     0.000000    20.000000     0.000000     0.000000     0.000000    20.000000\n",
      " move   O1   to        0.000000       0.000000       2.186664\n",
      " move   O2   to        0.000000       0.000000      -2.191661\n",
      " move   C3   to        0.000000       0.000000      -0.000003\n",
      " run 0 60 10\n",
      "# Frame 14/19 from fd_phonon.xyz#\n",
      " set cell     20.000000     0.000000     0.000000     0.000000    20.000000     0.000000     0.000000     0.000000    20.000000\n",
      " move   O1   to        0.000000       0.000000       2.186664\n",
      " move   O2   to        0.000000       0.000000      -2.186661\n",
      " move   C3   to        0.005000       0.000000      -0.000003\n",
      " run 0 60 10\n",
      "# Frame 15/19 from fd_phonon.xyz#\n",
      " set cell     20.000000     0.000000     0.000000     0.000000    20.000000     0.000000     0.000000     0.000000    20.000000\n",
      " move   O1   to        0.000000       0.000000       2.186664\n",
      " move   O2   to        0.000000       0.000000      -2.186661\n",
      " move   C3   to       -0.005000       0.000000      -0.000003\n",
      " run 0 60 10\n",
      "# Frame 16/19 from fd_phonon.xyz#\n",
      " set cell     20.000000     0.000000     0.000000     0.000000    20.000000     0.000000     0.000000     0.000000    20.000000\n",
      " move   O1   to        0.000000       0.000000       2.186664\n",
      " move   O2   to        0.000000       0.000000      -2.186661\n",
      " move   C3   to        0.000000       0.005000      -0.000003\n",
      " run 0 60 10\n",
      "# Frame 17/19 from fd_phonon.xyz#\n",
      " set cell     20.000000     0.000000     0.000000     0.000000    20.000000     0.000000     0.000000     0.000000    20.000000\n",
      " move   O1   to        0.000000       0.000000       2.186664\n",
      " move   O2   to        0.000000       0.000000      -2.186661\n",
      " move   C3   to        0.000000      -0.005000      -0.000003\n",
      " run 0 60 10\n",
      "# Frame 18/19 from fd_phonon.xyz#\n",
      " set cell     20.000000     0.000000     0.000000     0.000000    20.000000     0.000000     0.000000     0.000000    20.000000\n",
      " move   O1   to        0.000000       0.000000       2.186664\n",
      " move   O2   to        0.000000       0.000000      -2.186661\n",
      " move   C3   to        0.000000       0.000000       0.004997\n",
      " run 0 60 10\n",
      "# Frame 19/19 from fd_phonon.xyz#\n",
      " set cell     20.000000     0.000000     0.000000     0.000000    20.000000     0.000000     0.000000     0.000000    20.000000\n",
      " move   O1   to        0.000000       0.000000       2.186664\n",
      " move   O2   to        0.000000       0.000000      -2.186661\n",
      " move   C3   to        0.000000       0.000000      -0.005003\n",
      " run 0 60 10\n"
     ]
    }
   ],
   "source": [
    "%%bash\n",
    "cat fd-2.i"
   ]
  },
  {
   "cell_type": "code",
   "execution_count": null,
   "id": "f9a725fe",
   "metadata": {},
   "outputs": [],
   "source": []
  }
 ],
 "metadata": {
  "kernelspec": {
   "display_name": "Python 3 (ipykernel)",
   "language": "python",
   "name": "python3"
  },
  "language_info": {
   "codemirror_mode": {
    "name": "ipython",
    "version": 3
   },
   "file_extension": ".py",
   "mimetype": "text/x-python",
   "name": "python",
   "nbconvert_exporter": "python",
   "pygments_lexer": "ipython3",
   "version": "3.8.10"
  }
 },
 "nbformat": 4,
 "nbformat_minor": 5
}
