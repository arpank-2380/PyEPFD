{
 "cells": [
  {
   "cell_type": "markdown",
   "id": "670ad1a9",
   "metadata": {},
   "source": [
    "# 6.1 Stochastic Simulation Using ORCA "
   ]
  },
  {
   "cell_type": "markdown",
   "id": "8703e0d0",
   "metadata": {},
   "source": [
    "In this example we will learn to do a stochastic Monte Carlo calculation for the band gap renormalization (similar to exercise 4.1). However, here our choice of ab initio code would be ORCA. As ORCA has routines that can efficiently calculate phonons; we will use it. \n",
    "\n",
    "As, usual the first step is to start with an guessed atomic cordinates and perform geometry optimizations. Then we take the geometry-optimized structure and perform frequency calculations that will give us the normal mode. These two steps can be performed at once using the following orca-input file: orca-opt-freq.inp (see orca manual: https://www.faccts.de/docs/orca/6.0/manual/ for mode details). "
   ]
  },
  {
   "cell_type": "code",
   "execution_count": 1,
   "id": "afa4e7ab",
   "metadata": {},
   "outputs": [
    {
     "name": "stdout",
     "output_type": "stream",
     "text": [
      "!B3LYP DEF2-TZVP OPT FREQ TIGHTSCF\n",
      "\n",
      "%maxcore 28000\n",
      "\n",
      "%pal nprocs 12 end\n",
      "\n",
      "*xyzfile 0 1 co2-init.xyz\n"
     ]
    }
   ],
   "source": [
    "%%bash\n",
    "cat orca-opt-freq.inp"
   ]
  },
  {
   "cell_type": "markdown",
   "id": "61365afb",
   "metadata": {},
   "source": [
    "The calculation was submitted using orca-opt-freq.sbatch file to the midway3 cluster of RCC (University of Chicago). After finishing, orca would create several files."
   ]
  },
  {
   "cell_type": "markdown",
   "id": "2433c861",
   "metadata": {},
   "source": [
    "The orca-opt-freq.hess file contains all information that we need. We would convert this file to PyEPFD restart xml file using a command line tool  avaiable at utils/orca. This command line tools takes 2 mandatory arguments  in the following order: (1) source path, i.e., the full path to the .hess file we would like to convert and (2) destination path, i.e., full path to the .xml file which we would like to obtain. Therefore we would use the fillowing command:"
   ]
  },
  {
   "cell_type": "code",
   "execution_count": 2,
   "id": "635741bc",
   "metadata": {},
   "outputs": [
    {
     "name": "stdout",
     "output_type": "stream",
     "text": [
      "                                                 \n",
      "          ███████████                            \n",
      "         ░░███░░░░░███                           \n",
      "          ░███    ░███ █████ ████                \n",
      "          ░██████████ ░░███ ░███                 \n",
      "          ░███░░░░░░   ░███ ░███                 \n",
      "          ░███         ░███ ░███                 \n",
      "          █████        ░░███████                 \n",
      "         ░░░░░          ░░░░░███                 \n",
      "                        ███ ░███                 \n",
      "                       ░░██████                  \n",
      "                        ░░░░░░                   \n",
      " ██████████ ███████████  ███████████ ██████████  \n",
      "░░███░░░░░█░░███░░░░░███░░███░░░░░░█░░███░░░░███ \n",
      " ░███  █ ░  ░███    ░███ ░███   █ ░  ░███   ░░███\n",
      " ░██████    ░██████████  ░███████    ░███    ░███\n",
      " ░███░░█    ░███░░░░░░   ░███░░░█    ░███    ░███\n",
      " ░███ ░   █ ░███         ░███  ░     ░███    ███ \n",
      " ██████████ █████        █████       ██████████  \n",
      "░░░░░░░░░░ ░░░░░        ░░░░░       ░░░░░░░░░░   \n",
      "PyEPFD version     :  1.1\n",
      "Author             : Arpan Kundu\n",
      "Author Email       : arpan.kundu@gmail.com\n",
      "Today              :  2024-12-19 16:23:35.058617\n",
      "*************************************************\n",
      "                   CITATIONS                     \n",
      "=================================================\n",
      "Please cite the following 3 references:          \n",
      "(1) A. Kundu et al, Phys. Rev. Mater (2021), 5,  \n",
      "L070801, \n",
      "(2) A. Kundu and G Galli, \n",
      "J. Chem. Theory. Comput. (2023), 19, 4011\n",
      "(3) https://pyepfd.readthedocs.io/en/latest/\n",
      "*************************************************\n",
      "-----------------------------------------------------\n",
      "Converting orca-opt-freq.hess to co2.xml\n",
      "Frequency scale factor = 1.0\n",
      "-----------------------------------------------------\n",
      "#Mode    Frequency(cm-1)\n",
      "    1      -0.02\n",
      "    2      -0.00\n",
      "    3       0.00\n",
      "    4       0.25\n",
      "    5       0.25\n",
      "    6     676.43\n",
      "    7     676.43\n",
      "    8    1371.00\n",
      "    9    2408.06\n",
      "Time spent at write_info       0.0004 s\n",
      "Successfully written co2.xml.\n",
      "Change the values of <phonon mode>, <deltax>, <deltae>, \n",
      "<ngrid> and <cell> if needed.\n",
      "Total time required (s): 0.0018100738525390625\n"
     ]
    }
   ],
   "source": [
    "%run ../../../utils/orca/orca2pyepfd.py orca-opt-freq.hess co2.xml"
   ]
  },
  {
   "cell_type": "markdown",
   "id": "f43c046e",
   "metadata": {},
   "source": [
    "The newly created co2.xml file is similar to that we saw before. As orca is a non-periodic code, while writing the cell values, PyEPFD puts a cubic cell with a large value (100 angstrom) of the cell parameter. If required, you can change it accordingly.  "
   ]
  },
  {
   "cell_type": "code",
   "execution_count": 3,
   "id": "ad2c596b",
   "metadata": {},
   "outputs": [
    {
     "name": "stdout",
     "output_type": "stream",
     "text": [
      "  <cell shape='(6)'>\n",
      "[  1.88972599e+02,  1.88972599e+02,  1.88972599e+02,  9.00000000e+01,  9.00000000e+01, \n",
      "   9.00000000e+01 ]\n"
     ]
    }
   ],
   "source": [
    "%%bash\n",
    "grep -A2 \"<cell\" co2.xml"
   ]
  },
  {
   "cell_type": "markdown",
   "id": "f4c13a7b",
   "metadata": {},
   "source": [
    "Now we will use the same mcap.py file that we used in exercise 4.1 to run the Monte Carlo simulation. Lets have a look again to this file."
   ]
  },
  {
   "cell_type": "code",
   "execution_count": null,
   "id": "2d8802bc",
   "metadata": {},
   "outputs": [],
   "source": [
    "# %load ../4_stochastic/mcap.py\n",
    "import sys,os\n",
    "from pyepfd.coord_util import *\n",
    "from pyepfd.pyepfd_io import *\n",
    "\n",
    "#usage python3 mcap.py phonon_file T\n",
    "\n",
    "phonon_file = sys.argv[1]\n",
    "T = sys.argv[2]\n",
    "\n",
    "sd_inp = read_pyepfd_info(file_path = phonon_file)\n",
    "\n",
    "if sd_inp.ref_dynmatrix is not None:\n",
    "    inp_dynmat = sd_inp.ref_dynmatrix\n",
    "else:\n",
    "    inp_dynmat = sd_inp.dynmatrix\n",
    "\n",
    "# creating an xyz class to write the trajectory\n",
    "sd_xyz = xyz(file_path=f'{T}K.xyz',io='w',atoms=sd_inp.atoms)\n",
    "\n",
    "# Calling ionic mover class to perform Monte Carlo Antethetic Pair (MCAP) displacements\n",
    "sdmoves = ionic_mover( atoms = sd_inp.atoms,\n",
    "                       opt_coord = sd_inp.coord,\n",
    "                       mode = 'SD',\n",
    "                       algo ='mcap',\n",
    "                       ngrid = 250,\n",
    "                       dynmat = inp_dynmat,\n",
    "                       asr = sd_inp.asr,\n",
    "                       temperature = float(T))\n",
    "\n",
    "for j in range(sdmoves.disp_coord.shape[1]):\n",
    "    sd_xyz.write(cell = sd_inp.cell,coord = sdmoves.disp_coord[:,j])\n",
    "del sd_xyz\n"
   ]
  },
  {
   "cell_type": "markdown",
   "id": "d5968b02",
   "metadata": {},
   "source": [
    "we will run this file using co2.xml at 100 K using 5 mpi processes using the following command. "
   ]
  },
  {
   "cell_type": "code",
   "execution_count": 4,
   "id": "8cb618c2",
   "metadata": {},
   "outputs": [
    {
     "name": "stdout",
     "output_type": "stream",
     "text": [
      "                                                 \n",
      "          ███████████                            \n",
      "         ░░███░░░░░███                           \n",
      "          ░███    ░███ █████ ████                \n",
      "          ░██████████ ░░███ ░███                 \n",
      "          ░███░░░░░░   ░███ ░███                 \n",
      "          ░███         ░███ ░███                 \n",
      "          █████        ░░███████                 \n",
      "         ░░░░░          ░░░░░███                 \n",
      "                        ███ ░███                 \n",
      "                       ░░██████                  \n",
      "                        ░░░░░░                   \n",
      " ██████████ ███████████  ███████████ ██████████  \n",
      "░░███░░░░░█░░███░░░░░███░░███░░░░░░█░░███░░░░███ \n",
      " ░███  █ ░  ░███    ░███ ░███   █ ░  ░███   ░░███\n",
      " ░██████    ░██████████  ░███████    ░███    ░███\n",
      " ░███░░█    ░███░░░░░░   ░███░░░█    ░███    ░███\n",
      " ░███ ░   █ ░███         ░███  ░     ░███    ███ \n",
      " ██████████ █████        █████       ██████████  \n",
      "░░░░░░░░░░ ░░░░░        ░░░░░       ░░░░░░░░░░   \n",
      "PyEPFD version     :  1.1\n",
      "Author             : Arpan Kundu\n",
      "Author Email       : arpan.kundu@gmail.com\n",
      "Today              :  2024-12-19 16:23:56.454193\n",
      "*************************************************\n",
      "                   CITATIONS                     \n",
      "=================================================\n",
      "Please cite the following 3 references:          \n",
      "(1) A. Kundu et al, Phys. Rev. Mater (2021), 5,  \n",
      "L070801, \n",
      "(2) A. Kundu and G Galli, \n",
      "J. Chem. Theory. Comput. (2023), 19, 4011\n",
      "(3) https://pyepfd.readthedocs.io/en/latest/\n",
      "*************************************************\n",
      "Process-id0: Time spent on read_pyepfd_info class: 0.0003104209899902344 s.\n",
      "Time spent on xyz class: 9.632110595703125e-05 s.\n",
      "ionic_mover._stoch_disp(mcap,250) is running with 5 MPI processes.\n",
      "Process-id = 0: 10% of SD iterations completed.\n",
      "Process-id = 0: 20% of SD iterations completed.\n",
      "Process-id = 0: 30% of SD iterations completed.\n",
      "Process-id = 0: 40% of SD iterations completed.\n",
      "Process-id = 0: 50% of SD iterations completed.\n",
      "Process-id = 0: 60% of SD iterations completed.\n",
      "Process-id = 0: 70% of SD iterations completed.\n",
      "Process-id = 0: 80% of SD iterations completed.\n",
      "Process-id = 0: 90% of SD iterations completed.\n",
      "Process-id = 0: 100% of SD iterations completed.\n",
      "Time spent on ionic_mover class: 0.05505824089050293 s.\n"
     ]
    }
   ],
   "source": [
    "%%bash\n",
    "mpirun -np 5 python3 ../4_stochastic/mcap.py co2.xml 100"
   ]
  },
  {
   "cell_type": "markdown",
   "id": "4fd95192",
   "metadata": {},
   "source": [
    "This will create 100K.xyz file containing the Monte Carlo trajectory. Remember, it will put the molecule within a 100 A cubic box. If you want to change it, change the cell parameters manually in the co2.xml file. "
   ]
  },
  {
   "cell_type": "code",
   "execution_count": 5,
   "id": "48128af1",
   "metadata": {},
   "outputs": [
    {
     "name": "stdout",
     "output_type": "stream",
     "text": [
      "3\n",
      "# CELL(abcABC):  100.00000   100.00000   100.00000    90.00000    90.00000    90.00000  PyEPFD-Step: 0 positions{angstrom} cell{angstrom}\n",
      "O      -0.0060215693      0.024954011        1.1515462\n",
      "O      -0.0060215691      0.024954015       -1.1539117\n",
      "C        0.016042212     -0.066480597     0.0031511087\n",
      "3\n",
      "# CELL(abcABC):  100.00000   100.00000   100.00000    90.00000    90.00000    90.00000  PyEPFD-Step: 1 positions{angstrom} cell{angstrom}\n",
      "O       0.0060215737     -0.024954008        1.1683899\n",
      "O       0.0060215735     -0.024954012       -1.1660242\n",
      "C        -0.01604222      0.066480591    -0.0031512315\n"
     ]
    }
   ],
   "source": [
    "%%bash\n",
    "head 100K.xyz"
   ]
  },
  {
   "cell_type": "markdown",
   "id": "bb1d592e",
   "metadata": {},
   "source": [
    "The next step would be to perform single-point orca calculations for each of these frames. We will do these calculations within a sub-directory MCAP_100K. Lets first create that. "
   ]
  },
  {
   "cell_type": "code",
   "execution_count": 6,
   "id": "9e01b868",
   "metadata": {},
   "outputs": [],
   "source": [
    "%%bash\n",
    "mkdir MCAP_100K"
   ]
  },
  {
   "cell_type": "markdown",
   "id": "025869bc",
   "metadata": {},
   "source": [
    "To prepare inputs for single point orca calculations for each frame a command line tool: prepare_orca.py is available at /utils/orca directory of the PyEPFD distribution. This command line tool accepts 3 mandatory command line arguments in the following order:\n",
    "\n",
    "(1) The xyz file, here it is 100K.xyz\n",
    "\n",
    "(2) The index of the last frame upto which we want to perform orca calculations. In our 100K.xyz we have 500 frames. If we choose here a value of 400, then the inputs for first 400 frames would be created. For n-th frame a subdirectory named frame-n would be created, where the actual orca calculation would be performed. \n",
    "\n",
    "(3) We have to provide a dummy orca input file: orca-sp.inp for single-point calculations. This would be very similar to orca-opt-freq.inp file that we encountered before, except the \"OPT\", \"FREQ\" and \"TIGHTSCF\" options in the first line. Also we will add \"EnGrad\" so that ORCA computes forces. Note, unlike plane-wave codes, here forces are not free and often computationally expensive. Therefore, if not required (for example anharmonic measure), it is not recommended to compute forces. \n",
    "Also the xyz file name we changed to coord.xyz, i.e., within each frame-n directory a coord.xyz file would be created corresponding to the coordinates of the n-th frame. \n",
    "\n",
    "Let's have a look at the dummy orca input file:"
   ]
  },
  {
   "cell_type": "code",
   "execution_count": 7,
   "id": "5aefea7b",
   "metadata": {},
   "outputs": [
    {
     "name": "stdout",
     "output_type": "stream",
     "text": [
      "!B3LYP DEF2-TZVP EnGrad\n",
      "\n",
      "%maxcore 28000\n",
      "\n",
      "%pal nprocs 12 end\n",
      "\n",
      "*xyzfile 0 1 coord.xyz\n"
     ]
    }
   ],
   "source": [
    "%%bash\n",
    "cat orca-sp.inp"
   ]
  },
  {
   "cell_type": "markdown",
   "id": "8e86c85f",
   "metadata": {},
   "source": [
    "Now lets run the prepare_orca.py within the directory MCAP_100K"
   ]
  },
  {
   "cell_type": "code",
   "execution_count": 8,
   "id": "d089cda0",
   "metadata": {},
   "outputs": [],
   "source": [
    "%%bash\n",
    "cd MCAP_100K/\n",
    "../../../../utils/orca/prepare_orca.py ../100K.xyz 400 ../orca-sp.inp > prep_orca.log\n",
    "cd ../"
   ]
  },
  {
   "cell_type": "markdown",
   "id": "523eed52",
   "metadata": {},
   "source": [
    "Let us have a look at the contents of the following directory."
   ]
  },
  {
   "cell_type": "code",
   "execution_count": 9,
   "id": "14de4bf2",
   "metadata": {},
   "outputs": [
    {
     "name": "stdout",
     "output_type": "stream",
     "text": [
      "coord.xyz\n",
      "orca-sp.inp\n"
     ]
    }
   ],
   "source": [
    "%%bash\n",
    "ls MCAP_100K/frame-1/"
   ]
  },
  {
   "cell_type": "code",
   "execution_count": 12,
   "id": "96a5f258",
   "metadata": {},
   "outputs": [
    {
     "name": "stdout",
     "output_type": "stream",
     "text": [
      "========coord.xyz=========\n",
      "3\n",
      "# CELL(abcABC):  100.00000   100.00000   100.00000    90.00000    90.00000    90.00000  PyEPFD-Step: 0 positions{angstrom} cell{angstrom}\n",
      "O      -0.0060215693      0.024954011        1.1515462\n",
      "O      -0.0060215691      0.024954015       -1.1539117\n",
      "C        0.016042212     -0.066480597     0.0031511087\n",
      "=======orca-sp.inp========\n",
      "!B3LYP DEF2-TZVP EnGrad\n",
      "\n",
      "%maxcore 28000\n",
      "\n",
      "%pal nprocs 12 end\n",
      "\n",
      "*xyzfile 0 1 coord.xyz\n"
     ]
    }
   ],
   "source": [
    "%%bash\n",
    "echo \"========coord.xyz=========\"\n",
    "cat MCAP_100K/frame-1/coord.xyz\n",
    "echo \"=======orca-sp.inp========\"\n",
    "cat MCAP_100K/frame-1/orca-sp.inp"
   ]
  },
  {
   "cell_type": "markdown",
   "id": "1f134a27",
   "metadata": {},
   "source": [
    "We see that geometry of the first frame and dummy orca input file has been copied within the frame-1 directory. From the MCAP_100K directory, we can submit the jobs using a job script similar to below:"
   ]
  },
  {
   "cell_type": "code",
   "execution_count": null,
   "id": "2bfd7e90",
   "metadata": {},
   "outputs": [],
   "source": [
    "# %load MCAP_100K/orca.sbatch\n",
    "#!/bin/bash\n",
    "#SBATCH --account=pi-gagalli\n",
    "#SBATCH -J co2\n",
    "#SBATCH --time=24:00:00\n",
    "#SBATCH --partition=gagalli-csl2\n",
    "#SBATCH --qos=gagalli-csl2\n",
    "#SBATCH --nodes=1\n",
    "#SBATCH --ntasks-per-node=12\n",
    "#SBATCH --mem-per-cpu=28GB\n",
    "#SBATCH --cpus-per-task=1 #increase this comensurate with number of threads\n",
    "#SBATCH --array=0-3\n",
    "export nframe=100\n",
    "\n",
    "#\n",
    "# SET OMP_NUM_THREADS \n",
    "export OMP_NUM_THREADS=$SLURM_CPUS_PER_TASK\n",
    "#\n",
    "module load orca/5.0.4\n",
    "orca=/software/orca-5.0.4-el8-x86_64/bin/orca\n",
    "#\n",
    "# NTASKS BELOW IS SET FOR GNU PARALLEL TO KNOW HOW MANY CORES IT HAS TO WORK WITH\n",
    "NTASKS=$(($SLURM_NTASKS_PER_NODE * $SLURM_JOB_NUM_NODES))\n",
    "echo \"NTASKS IS $NTASKS\"\n",
    "\n",
    "start_time=$(date +%s)\n",
    "\n",
    "# Calculating start and end frame indices from job array id.\n",
    "let begin=${nframe}*${SLURM_ARRAY_TASK_ID}+1\n",
    "let end=${nframe}*${SLURM_ARRAY_TASK_ID}+${nframe}\n",
    "\n",
    "for (( i=$begin; i<=$end; i++ )); do\n",
    "    cd frame-${i}\n",
    "    ${orca} orca-sp.inp > orca-sp.out\n",
    "    cd $SLURM_SUBMIT_DIR\n",
    "done    \n",
    "\n",
    "end_time=$(date +%s)\n",
    "total_time=$((end_time - start_time))\n",
    "echo \"Total execution time: $total_time seconds\"\n"
   ]
  },
  {
   "cell_type": "markdown",
   "id": "213c893e",
   "metadata": {},
   "source": [
    "The above script submit 4 array jobs handling frames: 1-100, 101-200, 201-300 and 301-400 respectively. Once all jobs are finished, we would extract the data using another command line tool extract_properties.py. The command line options can be obtained by using -h (or --help) options like below. "
   ]
  },
  {
   "cell_type": "code",
   "execution_count": 1,
   "id": "7b67be18",
   "metadata": {
    "scrolled": true
   },
   "outputs": [
    {
     "name": "stdout",
     "output_type": "stream",
     "text": [
      "                                                 \n",
      "          ███████████                            \n",
      "         ░░███░░░░░███                           \n",
      "          ░███    ░███ █████ ████                \n",
      "          ░██████████ ░░███ ░███                 \n",
      "          ░███░░░░░░   ░███ ░███                 \n",
      "          ░███         ░███ ░███                 \n",
      "          █████        ░░███████                 \n",
      "         ░░░░░          ░░░░░███                 \n",
      "                        ███ ░███                 \n",
      "                       ░░██████                  \n",
      "                        ░░░░░░                   \n",
      " ██████████ ███████████  ███████████ ██████████  \n",
      "░░███░░░░░█░░███░░░░░███░░███░░░░░░█░░███░░░░███ \n",
      " ░███  █ ░  ░███    ░███ ░███   █ ░  ░███   ░░███\n",
      " ░██████    ░██████████  ░███████    ░███    ░███\n",
      " ░███░░█    ░███░░░░░░   ░███░░░█    ░███    ░███\n",
      " ░███ ░   █ ░███         ░███  ░     ░███    ███ \n",
      " ██████████ █████        █████       ██████████  \n",
      "░░░░░░░░░░ ░░░░░        ░░░░░       ░░░░░░░░░░   \n",
      "PyEPFD version     :  1.1\n",
      "Author             : Arpan Kundu\n",
      "Author Email       : arpan.kundu@gmail.com\n",
      "Today              :  2024-12-19 18:59:59.687544\n",
      "*************************************************\n",
      "                   CITATIONS                     \n",
      "=================================================\n",
      "Please cite the following 3 references:          \n",
      "(1) A. Kundu et al, Phys. Rev. Mater (2021), 5,  \n",
      "L070801, \n",
      "(2) A. Kundu and G Galli, \n",
      "J. Chem. Theory. Comput. (2023), 19, 4011\n",
      "(3) https://pyepfd.readthedocs.io/en/latest/\n",
      "*************************************************\n",
      "================================================\n",
      "      ORCA EXTRACT_PROPERTIES HELP MESSAGES \n",
      "=================================================\n",
      "\u001b[91mUsage (optional arguments in [...]):\n",
      "extract_properties.py -p \u001b[92m<full_path>\u001b[91m -n \u001b[92m<n_orbital>\u001b[91m [-f \u001b[92m<frames>\u001b[91m] [-o \u001b[92m<prefix>\u001b[91m] [-a \u001b[92m<atom_indices>\u001b[91m] \n",
      "\u001b[00m\n",
      "Command line argunemts: \n",
      "\n",
      "\u001b[91m -h, --help   =\u001b[00m prints help message.\n",
      "\n",
      "\u001b[91m -p, --path   =\u001b[00m \u001b[92m<full_path>\u001b[00m to the orca calculations.\n",
      "                For a single frame \u001b[92m<full_path>\u001b[00m of the directory where .out file \n",
      "                is present.\n",
      "                For many frames, \u001b[92m<full_path>\u001b[00m of the directory where individual \n",
      "                frame directories exist.\n",
      "\n",
      "\u001b[91m -o, --orca   =\u001b[00m A string defining \u001b[92m<prefix>\u001b[00m of orca outputs.\n",
      "                The default is 'orca-sp'.\n",
      "\n",
      "\u001b[91m -n, --n_orb  =\u001b[00m The range of orbital indices(\u001b[92m<n_orbital>\u001b[00m) to be extracted.\n",
      "                The indices are the same as with orca-output (starts with 0)\n",
      "                The argument \u001b[92m<n_orbital>\u001b[00m may take 3 integers separated by ':'.\n",
      "                These integers define \u001b[92mstart:end:step\u001b[00m of the orbital indices.\n",
      "                  [a] only providing \u001b[92mstart\u001b[00m would extract start orbital only.\n",
      "                  [b] if only \u001b[92mstart:end\u001b[00m provided then \u001b[92mstep = 1\u001b[00m.\n",
      "\n",
      "\u001b[91m -f, --frames =\u001b[00m The range of \u001b[92m<frames>\u001b[00m.\n",
      "                The argument \u001b[92m<frames>\u001b[00m may take 3 integers separated by ':'.\n",
      "                These integers define \u001b[92mstart:end:step\u001b[00m of the trajectory frames.\n",
      "                  [a] only providing \u001b[92mstart\u001b[00m would extract start frame only.\n",
      "                  [b] if only \u001b[92mstart:end\u001b[00m provided then \u001b[92mstep = 1\u001b[00m.\n",
      "\n",
      "\u001b[91m -a, --atoms  =\u001b[00m The list of \u001b[92m<atom_indices>\u001b[00m (starting with 0 as orca output)\n",
      "                for which we want to extract (charge/spin) populations.\n",
      "                The argument \u001b[92m<atom_indices>\u001b[00m either takes\n",
      "                    (1) A string either \n",
      "                         [a] 'none' (default): populations wont be extracted, \n",
      "                      or [b] 'all': populations of all atoms would be extracted. \n",
      "                or\n",
      "                    (2) many integers separated by ',' defining the list of atom indices,\n",
      "                or\n",
      "                    (3) Integers (max. 3) separated by ':' defining ranges.\n",
      "                     See the frames above for definition of ranges.\n"
     ]
    }
   ],
   "source": [
    "%run ../../../utils/orca/extract_properties.py --help"
   ]
  },
  {
   "cell_type": "markdown",
   "id": "7c5ef7b0",
   "metadata": {},
   "source": [
    "Now we would extract various properies for frames 1 to 400. We extract degenerate HOMOs (orbital indices 9,10) and LUMO (orbital index 11). Therefore we use the following command."
   ]
  },
  {
   "cell_type": "code",
   "execution_count": 2,
   "id": "b9f098b2",
   "metadata": {},
   "outputs": [
    {
     "name": "stdout",
     "output_type": "stream",
     "text": [
      "Extracting properties from orca calculations\n",
      "Frame range: \u001b[94m(1, 400, 1)\u001b[00m\n",
      "\u001b[94m40/400\u001b[00m frames processed in \u001b[94m    1.638\u001b[00m s.\n",
      "\u001b[94m80/400\u001b[00m frames processed in \u001b[94m    3.223\u001b[00m s.\n",
      "\u001b[94m120/400\u001b[00m frames processed in \u001b[94m    5.089\u001b[00m s.\n",
      "\u001b[94m160/400\u001b[00m frames processed in \u001b[94m    6.934\u001b[00m s.\n",
      "\u001b[94m200/400\u001b[00m frames processed in \u001b[94m    8.545\u001b[00m s.\n",
      "\u001b[94m240/400\u001b[00m frames processed in \u001b[94m    9.672\u001b[00m s.\n",
      "\u001b[94m280/400\u001b[00m frames processed in \u001b[94m   10.186\u001b[00m s.\n",
      "\u001b[94m320/400\u001b[00m frames processed in \u001b[94m   11.825\u001b[00m s.\n",
      "\u001b[94m360/400\u001b[00m frames processed in \u001b[94m   13.378\u001b[00m s.\n",
      "\u001b[92m\n",
      "Property extraction finished in    14.846 s.\u001b[00m\n",
      "*************************************************\n",
      "Total single-point energies are written at: \n",
      "\u001b[92m   MCAP_100K//etotals.dat\u001b[00m\n",
      "Orbital energies are written at : \n",
      "\u001b[92m   MCAP_100K//is_0_orb-9-11.dat\u001b[00m\n",
      "*************************************************\n",
      "EnGrad informations are written at: \n",
      "\u001b[92m   MCAP_100K//engrad.npz\u001b[00m\n",
      "Keywords for the engrad.npz file are:\n",
      "   atoms   = a list of atoms symbols,\n",
      "   frames  = a list of original frame indices,\n",
      "   coords  = a 2D numpy of coordinates (au),\n",
      "   forces  = a 2D numpy of forces (au),\n",
      "   etotals = a 1D numpy of energies (au)\n",
      "In the last 3 arrays, \n",
      "   0-th dimension corresponds to frames\n",
      "*************************************************\n"
     ]
    }
   ],
   "source": [
    "%run ../../../utils/orca/extract_properties.py -p MCAP_100K/ -n 9:11 -f 1:400 -o orca-sp"
   ]
  },
  {
   "cell_type": "markdown",
   "id": "5e25b704",
   "metadata": {},
   "source": [
    "Like in example 4.1, we compute the band gap using an awk script."
   ]
  },
  {
   "cell_type": "code",
   "execution_count": 3,
   "id": "05d914fe",
   "metadata": {},
   "outputs": [
    {
     "name": "stdout",
     "output_type": "stream",
     "text": [
      "10.0558\n",
      "9.883\n",
      "10.1485\n",
      "10.313\n",
      "10.4468\n",
      "10.0803\n",
      "10.1678\n",
      "10.4725\n",
      "10.3487\n",
      "10.5374\n",
      "10.5014\n",
      "9.85465\n",
      "9.73425\n",
      "10.5914\n",
      "10.4057\n",
      "10.0914\n",
      "10.6387\n",
      "10.756\n",
      "9.55225\n",
      "10.3976\n",
      "10.3003\n",
      "10.2356\n",
      "9.7635\n",
      "10.2627\n",
      "10.2915\n"
     ]
    }
   ],
   "source": [
    "%%bash\n",
    "awk '{print $3-($1+$2)/2}' MCAP_100K/is_0_orb-9-11.dat | sed '1d' > gap.dat\n",
    "head -n 25 gap.dat"
   ]
  },
  {
   "cell_type": "markdown",
   "id": "b96b39eb",
   "metadata": {},
   "source": [
    "As usual, to obtain the renormalized gap, the next step is to average over all 400 configurations."
   ]
  },
  {
   "cell_type": "code",
   "execution_count": 4,
   "id": "c4edaa8e",
   "metadata": {},
   "outputs": [
    {
     "data": {
      "image/png": "[encoded data removed]",
      "text/plain": [
       "<Figure size 640x480 with 1 Axes>"
      ]
     },
     "metadata": {},
     "output_type": "display_data"
    }
   ],
   "source": [
    "from pyepfd.epfd import mc_convergence\n",
    "import matplotlib.pyplot as plt\n",
    "co2_100K = mc_convergence(file_path='gap.dat',algo='mcap', usecols=(0))\n",
    "mc = co2_100K.avg[:,0] #Our gap was in column 0 of the file\n",
    "emc = 2*co2_100K.sd_mean[:,0] # Error is 2 times standard deviation of mean\n",
    "plt.plot( [i+1 for i in range(len(mc))], mc, label='MC')\n",
    "plt.fill_between([i+1 for i in range(len(mc))], mc + emc, mc - emc, alpha = 0.3)\n",
    "plt.xlabel(\"# of independent samples\")\n",
    "plt.ylabel(\"Renormalized Gap (eV)\")\n",
    "plt.show()"
   ]
  },
  {
   "cell_type": "markdown",
   "id": "40b4b070",
   "metadata": {},
   "source": [
    "Note, the result is different compared to what we obtained in exercise 4.1 because the band gap is dependent on the used basis set. Therefore, it should be repeated using larger and more accurate basis sets. "
   ]
  },
  {
   "cell_type": "markdown",
   "id": "a429b431",
   "metadata": {},
   "source": [
    "Trajectory analysis, for example anharmonic measure can be computed using the following script"
   ]
  },
  {
   "cell_type": "code",
   "execution_count": 1,
   "id": "8834e299",
   "metadata": {},
   "outputs": [
    {
     "name": "stdout",
     "output_type": "stream",
     "text": [
      "                                                 \n",
      "          ███████████                            \n",
      "         ░░███░░░░░███                           \n",
      "          ░███    ░███ █████ ████                \n",
      "          ░██████████ ░░███ ░███                 \n",
      "          ░███░░░░░░   ░███ ░███                 \n",
      "          ░███         ░███ ░███                 \n",
      "          █████        ░░███████                 \n",
      "         ░░░░░          ░░░░░███                 \n",
      "                        ███ ░███                 \n",
      "                       ░░██████                  \n",
      "                        ░░░░░░                   \n",
      " ██████████ ███████████  ███████████ ██████████  \n",
      "░░███░░░░░█░░███░░░░░███░░███░░░░░░█░░███░░░░███ \n",
      " ░███  █ ░  ░███    ░███ ░███   █ ░  ░███   ░░███\n",
      " ░██████    ░██████████  ░███████    ░███    ░███\n",
      " ░███░░█    ░███░░░░░░   ░███░░░█    ░███    ░███\n",
      " ░███ ░   █ ░███         ░███  ░     ░███    ███ \n",
      " ██████████ █████        █████       ██████████  \n",
      "░░░░░░░░░░ ░░░░░        ░░░░░       ░░░░░░░░░░   \n",
      "PyEPFD version     :  1.1\n",
      "Author             : Arpan Kundu\n",
      "Author Email       : arpan.kundu@gmail.com\n",
      "Today              :  2024-12-20 13:42:21.620006\n",
      "*************************************************\n",
      "                   CITATIONS                     \n",
      "=================================================\n",
      "Please cite the following 3 references:          \n",
      "(1) A. Kundu et al, Phys. Rev. Mater (2021), 5,  \n",
      "L070801, \n",
      "(2) A. Kundu and G Galli, \n",
      "J. Chem. Theory. Comput. (2023), 19, 4011\n",
      "(3) https://pyepfd.readthedocs.io/en/latest/\n",
      "*************************************************\n",
      "Process-id0: Time spent on read_pyepfd_info class: 0.0003857612609863281 s.\n",
      "anharm_measure: Execution time (s): 0.08104157447814941\n"
     ]
    }
   ],
   "source": [
    "from pyepfd.anharm import anharm_measure\n",
    "#We need pyepfd_io module to parse and store restart file\n",
    "from pyepfd.pyepfd_io import *\n",
    "#We need numpy to parse and process the energy.npz\n",
    "import numpy as np\n",
    "\n",
    "sd_inp = read_pyepfd_info(file_path='co2.xml')\n",
    "if sd_inp.ref_dynmatrix is not None:\n",
    "    inp_dynmat = sd_inp.ref_dynmatrix\n",
    "else:\n",
    "    inp_dynmat = sd_inp.dynmatrix\n",
    "\n",
    "trajectory = np.load('MCAP_100K/engrad.npz')\n",
    "coords = trajectory['coords']\n",
    "forces = trajectory['forces']\n",
    "\n",
    "\n",
    "# Now we calculate anharm measure\n",
    "anharm = anharm_measure(dynmat = inp_dynmat, \\\n",
    "                        mass = sd_inp.mass, \\\n",
    "                        forces = forces, \\\n",
    "                        disp_coords = coords, \\\n",
    "                        opt_coord = sd_inp.coord, \\\n",
    "                        remove_rot_trans = True,\\\n",
    "                        asr = sd_inp.asr)\n",
    "\n",
    "# We write the informations using write method in anharm object.\n",
    "anharm.write(file_path='co2-100K-mcap',atoms=sd_inp.atoms)\n",
    "\n",
    "# Task complete, we are deleting the anharm object to finish file writing\n",
    "del anharm\n"
   ]
  },
  {
   "cell_type": "markdown",
   "id": "acb3591f",
   "metadata": {},
   "source": [
    "This will create two files storing the mode-resolved and atom resolved anharmonic measures.\n",
    "\n",
    "Let us first look at the mode-resolved measure."
   ]
  },
  {
   "cell_type": "code",
   "execution_count": 2,
   "id": "90809699",
   "metadata": {},
   "outputs": [
    {
     "name": "stdout",
     "output_type": "stream",
     "text": [
      "# Mode  Freq(cm-1)       Var(Anh)        Var(Tot)     Anh_Measure \n",
      "#--------------------------------------------------------------\n",
      "    1     -0.0120    0.000307268     5.89657e-05        2.28275 \n",
      "    2      0.0001    0.000142152     2.67528e-06        7.28941 \n",
      "    3      0.0006      0.0168978     3.86368e-07        209.129 \n",
      "    4      0.0070    0.000306387     1.16596e-06        16.2104 \n",
      "    5      0.0070    0.000141753      1.8682e-05        2.75457 \n",
      "    6    676.4269      0.0176427     0.000183404        9.80794 \n",
      "    7    676.4269     0.00120172     0.000475885         1.5891 \n",
      "    8   1371.0021    0.000555802      0.00415696       0.365655 \n",
      "    9   2408.0634      0.0373526       0.0142452         1.6193 \n",
      "#--------------------------------------------------------------\n",
      "# SUM                 0.00828314     0.00212703        1.97338\n"
     ]
    }
   ],
   "source": [
    "%%bash\n",
    "cat co2-100K-mcap_mode_res_anh_mes.out"
   ]
  },
  {
   "cell_type": "markdown",
   "id": "262795c2",
   "metadata": {},
   "source": [
    "For the modes 6-9, we see similar trends as we have seen in exercise 4.1, i.e., higher anharmonic measure for bending modes and symmetric stretching has the lowest anharmonicity. However the obtained anharmonic measure is much larger. This is because, the forces are much more sensitive to the basis set and therefore to obtain force-based anharmonic measure, we need to repeat the whole calculation (starting from begining) with a much better basis set. \n",
    "\n",
    "We can also obtaine an energy based anharmonic measure (which is less sensitive); however here we will only get the total anharmonic measure and not the mode(atom) resolved anharmonic measure. For that purpose we can use the following script. "
   ]
  },
  {
   "cell_type": "code",
   "execution_count": 1,
   "id": "03dd0ed1",
   "metadata": {},
   "outputs": [
    {
     "name": "stdout",
     "output_type": "stream",
     "text": [
      "                                                 \n",
      "          ███████████                            \n",
      "         ░░███░░░░░███                           \n",
      "          ░███    ░███ █████ ████                \n",
      "          ░██████████ ░░███ ░███                 \n",
      "          ░███░░░░░░   ░███ ░███                 \n",
      "          ░███         ░███ ░███                 \n",
      "          █████        ░░███████                 \n",
      "         ░░░░░          ░░░░░███                 \n",
      "                        ███ ░███                 \n",
      "                       ░░██████                  \n",
      "                        ░░░░░░                   \n",
      " ██████████ ███████████  ███████████ ██████████  \n",
      "░░███░░░░░█░░███░░░░░███░░███░░░░░░█░░███░░░░███ \n",
      " ░███  █ ░  ░███    ░███ ░███   █ ░  ░███   ░░███\n",
      " ░██████    ░██████████  ░███████    ░███    ░███\n",
      " ░███░░█    ░███░░░░░░   ░███░░░█    ░███    ░███\n",
      " ░███ ░   █ ░███         ░███  ░     ░███    ███ \n",
      " ██████████ █████        █████       ██████████  \n",
      "░░░░░░░░░░ ░░░░░        ░░░░░       ░░░░░░░░░░   \n",
      "PyEPFD version     :  1.1\n",
      "Author             : Arpan Kundu\n",
      "Author Email       : arpan.kundu@gmail.com\n",
      "Today              :  2024-12-20 16:06:20.634063\n",
      "*************************************************\n",
      "                   CITATIONS                     \n",
      "=================================================\n",
      "Please cite the following 3 references:          \n",
      "(1) A. Kundu et al, Phys. Rev. Mater (2021), 5,  \n",
      "L070801, \n",
      "(2) A. Kundu and G Galli, \n",
      "J. Chem. Theory. Comput. (2023), 19, 4011\n",
      "(3) https://pyepfd.readthedocs.io/en/latest/\n",
      "*************************************************\n",
      "Process-id0: Time spent on read_pyepfd_info class: 0.0005810260772705078 s.\n",
      "Time spent on xyz class: 0.005024433135986328 s.\n",
      "Total anharmonic measure (Energy based) = 0.18793227018070038\n"
     ]
    }
   ],
   "source": [
    "from pyepfd.anharm import boltzmann_reweighting\n",
    "#We need pyepfd_io module to parse and store restart file\n",
    "from pyepfd.pyepfd_io import *\n",
    "from pyepfd.coord_util import xyz\n",
    "#We need numpy to parse and process the energy.npz\n",
    "import numpy as np\n",
    "\n",
    "sd_inp = read_pyepfd_info(file_path='co2.xml')\n",
    "if sd_inp.ref_dynmatrix is not None:\n",
    "    inp_dynmat = sd_inp.ref_dynmatrix\n",
    "else:\n",
    "    inp_dynmat = sd_inp.dynmatrix\n",
    "\n",
    "# This can be calculated even when engrad.npz file is not present\n",
    "disp_energy = np.genfromtxt('MCAP_100K/etotals.dat')\n",
    "# We are loading the original trajectory\n",
    "trajectory = xyz(file_path='100K.xyz',io='r')\n",
    "n_frames = len(disp_energy)\n",
    "# below we assume only first n_frames are extracted in the previous step\n",
    "coords = trajectory.coords[:n_frames]\n",
    "\n",
    "#We need the energy of the optimized geometry in Hatree\n",
    "# which we obtain from the orca-opt-freq.engrad file\n",
    "opt_energy = -188.587352098676\n",
    "\n",
    "# Now we calculate anharm measure\n",
    "anharm = boltzmann_reweighting(dynmat = inp_dynmat, \\\n",
    "                        mass = sd_inp.mass, \\\n",
    "                        disp_coords = coords, \\\n",
    "                        opt_coord = sd_inp.coord, \\\n",
    "                        opt_energy = opt_energy,\n",
    "                        disp_energy = disp_energy,       \n",
    "                        remove_rot_trans = True,\\\n",
    "                        asr = sd_inp.asr,\n",
    "                        temperature = 100)\n",
    "\n",
    "# We write the informations using write method in anharm object.\n",
    "print(f\"Total anharmonic measure (Energy based) = {anharm.anharm_measure}\")\n",
    "\n",
    "# Task complete, we are deleting the anharm object to finish file writing\n",
    "del anharm"
   ]
  },
  {
   "cell_type": "markdown",
   "id": "88cfa666",
   "metadata": {},
   "source": [
    "We can see that the energy-based total anharmonic measure is much more consistent with the one we obtained in exercise 4.1. Note, for larges sytems and basis sets, force-calculations have significant computational overload. Therefore, while using localized basis set, it is recommended to use energy-based anharmonic measure. "
   ]
  },
  {
   "cell_type": "code",
   "execution_count": null,
   "id": "475d2482",
   "metadata": {},
   "outputs": [],
   "source": []
  }
 ],
 "metadata": {
  "kernelspec": {
   "display_name": "Python 3 (ipykernel)",
   "language": "python",
   "name": "python3"
  },
  "language_info": {
   "codemirror_mode": {
    "name": "ipython",
    "version": 3
   },
   "file_extension": ".py",
   "mimetype": "text/x-python",
   "name": "python",
   "nbconvert_exporter": "python",
   "pygments_lexer": "ipython3",
   "version": "3.8.10"
  }
 },
 "nbformat": 4,
 "nbformat_minor": 5
}
