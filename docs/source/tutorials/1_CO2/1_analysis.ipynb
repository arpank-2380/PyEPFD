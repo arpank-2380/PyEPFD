{
 "cells": [
  {
   "cell_type": "markdown",
   "id": "226ac273",
   "metadata": {},
   "source": [
    "# 1.5 Analysizing a Monte Carlo or Molecular Dynamics Trajectory. \n",
    "\n",
    "Here we would learn to analyze a molecular dynamics trajectory. We would compute:\n",
    "\n",
    "(1.5.1) Vibrational density along normal modes\n",
    "\n",
    "(1.5.2) Anharmonic Measure proposed by Carbogno and coworkers.\n",
    "\n",
    "1.5.1. Vibrational Density along Normal Mode\n",
    "====\n",
    "The file co2-b3lyp.pos_0.xyz contains a 10000 step trajectory from a Path-Integral PIGLET simulation. We would discard the first 2000 step (1ps) for equilibration and compute the vibrational density along normal modes. We would use xyz2nmode class of pyepfd."
   ]
  },
  {
   "cell_type": "code",
   "execution_count": 1,
   "id": "45e16bf4",
   "metadata": {},
   "outputs": [
    {
     "name": "stdout",
     "output_type": "stream",
     "text": [
      "                                                 \n",
      "          ███████████                            \n",
      "         ░░███░░░░░███                           \n",
      "          ░███    ░███ █████ ████                \n",
      "          ░██████████ ░░███ ░███                 \n",
      "          ░███░░░░░░   ░███ ░███                 \n",
      "          ░███         ░███ ░███                 \n",
      "          █████        ░░███████                 \n",
      "         ░░░░░          ░░░░░███                 \n",
      "                        ███ ░███                 \n",
      "                       ░░██████                  \n",
      "                        ░░░░░░                   \n",
      " ██████████ ███████████  ███████████ ██████████  \n",
      "░░███░░░░░█░░███░░░░░███░░███░░░░░░█░░███░░░░███ \n",
      " ░███  █ ░  ░███    ░███ ░███   █ ░  ░███   ░░███\n",
      " ░██████    ░██████████  ░███████    ░███    ░███\n",
      " ░███░░█    ░███░░░░░░   ░███░░░█    ░███    ░███\n",
      " ░███ ░   █ ░███         ░███  ░     ░███    ███ \n",
      " ██████████ █████        █████       ██████████  \n",
      "░░░░░░░░░░ ░░░░░        ░░░░░       ░░░░░░░░░░   \n",
      "PyEPFD version     :  1.1\n",
      "Author             : Arpan Kundu\n",
      "Author Email       : arpan.kundu@gmail.com\n",
      "Today              :  2024-12-18 17:47:54.804572\n",
      "*************************************************\n",
      "                   CITATIONS                     \n",
      "=================================================\n",
      "Please cite the following 3 references:          \n",
      "(1) A. Kundu et al, Phys. Rev. Mater (2021), 5,  \n",
      "L070801, \n",
      "(2) A. Kundu and G Galli, \n",
      "J. Chem. Theory. Comput. (2023), 19, 4011\n",
      "(3) https://pyepfd.readthedocs.io/en/latest/\n",
      "*************************************************\n"
     ]
    }
   ],
   "source": [
    "from pyepfd.xyz2nmode import *"
   ]
  },
  {
   "cell_type": "code",
   "execution_count": 2,
   "id": "3e9f4fcd",
   "metadata": {},
   "outputs": [
    {
     "name": "stdout",
     "output_type": "stream",
     "text": [
      "Process-id0: Time spent on read_pyepfd_info class: 0.0005273818969726562 s.\n",
      "Total execution time (s): 1.6892316341400146\n"
     ]
    }
   ],
   "source": [
    "nm_density = prob_dist_on_nm(\n",
    "            phonon_info_file='../2_normal_mode_phonon/enmfdphonon.xml', #File containing phonon information.\n",
    "            ref_struc='../1_cartesian_phonon/co2_b3lyp_opt.xyz', #xyz file containing optimized geometry\n",
    "            traj_file='co2-b3lyp.pos_0.xyz', #trajectory file\n",
    "            prefix='co2-100K', # The prefix that would be used for outputs\n",
    "            par_exec = False, #If true then run using mpirun\n",
    "            nmode_traj = False, #If true a normal mode trajectory would be written\n",
    "            start_frame = 2001, #First 2000 steps discarded forequilibration\n",
    "            end_frame = 10000, #Default is the last frame\n",
    "            mode_list = [6,7,8,9]\n",
    "            )\n",
    "## deleting the object to finish the process\n",
    "del nm_density"
   ]
  },
  {
   "cell_type": "markdown",
   "id": "3eb036d7",
   "metadata": {},
   "source": [
    "This created two files: (1) co2-100K.stat.dat & (2) co2-100K.prob-density.dat. The first file prints some statistics."
   ]
  },
  {
   "cell_type": "code",
   "execution_count": 3,
   "id": "bbe5a94f",
   "metadata": {},
   "outputs": [
    {
     "name": "stdout",
     "output_type": "stream",
     "text": [
      "#-----------------------------------------Information-----------------------------------\n",
      "#        Skewness = Fischer - Pearson coefficient of skewness (moment based)         \n",
      "#       Skew-Test Null Hypothesis: The distribution is drawn from a Gaussian         \n",
      "#   Therefore if p-value is less than 0.05 that means the distribution is skewed     \n",
      "#                      with (1 - 0.05)*100 = 95% confidence                          \n",
      "#               Mean, Median and Stdev are in Freq scaled coordinate                 \n",
      "#---------------------------------------------------------------------------------------\n",
      "# Mode No      Mean          Median          Stdev        Skewness    Skew-Test(p-value)\n",
      "#---------------------------------------------------------------------------------------\n",
      "      6      0.0150425      0.0139688       0.697128    -0.00828963       0.761954\n",
      "      7     0.00316282   -1.45686e-05       0.730729      0.0254228       0.352964\n",
      "      8      0.0972618      0.0554929       0.721932       0.137939    5.24893e-07\n",
      "      9     0.00258965    -0.00323408       0.719454      0.0350835       0.199971\n"
     ]
    }
   ],
   "source": [
    "%%bash\n",
    "cat co2-100K.stat.dat"
   ]
  },
  {
   "cell_type": "markdown",
   "id": "8f847ce1",
   "metadata": {},
   "source": [
    "The second file prints the the probability density of the 7,8 & 9th normal modes."
   ]
  },
  {
   "cell_type": "code",
   "execution_count": 4,
   "id": "112e64cd",
   "metadata": {},
   "outputs": [
    {
     "name": "stdout",
     "output_type": "stream",
     "text": [
      "#Column-1 => Grid points(Freq Scaled)\n",
      "#Other columns => probability densities for Modes:6 7 8 9\n",
      "-4.995  0.0  0.0  0.0  0.0\n",
      "-4.985  0.0  0.0  0.0  0.0\n",
      "-4.975  0.0  0.0  0.0  0.0\n",
      "-4.965  0.0  0.0  0.0  0.0\n",
      "-4.955  0.0  0.0  0.0  0.0\n",
      "-4.945  0.0  0.0  0.0  0.0\n",
      "-4.9350000000000005  0.0  0.0  0.0  0.0\n",
      "-4.925  0.0  0.0  0.0  0.0\n",
      "-4.915  0.0  0.0  0.0  0.0\n",
      "-4.905  0.0  0.0  0.0  0.0\n",
      "-4.895  0.0  0.0  0.0  0.0\n",
      "-4.885  0.0  0.0  0.0  0.0\n",
      "-4.875  0.0  0.0  0.0  0.0\n",
      "-4.865  0.0  0.0  0.0  0.0\n",
      "-4.855  0.0  0.0  0.0  0.0\n",
      "-4.845  0.0  0.0  0.0  0.0\n",
      "-4.835  0.0  0.0  0.0  0.0\n",
      "-4.825  0.0  0.0  0.0  0.0\n",
      "-4.8149999999999995  0.0  0.0  0.0  0.0\n",
      "-4.805  0.0  0.0  0.0  0.0\n",
      "-4.795  0.0  0.0  0.0  0.0\n",
      "-4.785  0.0  0.0  0.0  0.0\n",
      "-4.775  0.0  0.0  0.0  0.0\n"
     ]
    }
   ],
   "source": [
    "%%bash\n",
    "head -n 25 co2-100K.prob-density.dat"
   ]
  },
  {
   "cell_type": "markdown",
   "id": "85848f3d",
   "metadata": {},
   "source": [
    "This file could be used to plot the probability density using matplotlib. "
   ]
  },
  {
   "cell_type": "code",
   "execution_count": 5,
   "id": "6842c1a4",
   "metadata": {},
   "outputs": [
    {
     "data": {
      "image/png": "[encoded data removed]",
      "text/plain": [
       "<Figure size 640x480 with 4 Axes>"
      ]
     },
     "metadata": {},
     "output_type": "display_data"
    }
   ],
   "source": [
    "import numpy as np\n",
    "import matplotlib.pyplot as plt\n",
    "hist_data = np.genfromtxt('co2-100K.prob-density.dat')\n",
    "fig, axs = plt.subplots(2,2)\n",
    "fig.subplots_adjust(left=None, bottom=None, right=None, top=None, wspace=0.3, hspace=0.6)\n",
    "plt.setp(axs,xlim=(-3,3),ylim=(0,0.6))\n",
    "mode_list = [6,7,8,9]\n",
    "imode=0\n",
    "bins=np.linspace(-5,5,201) # Histogram bins\n",
    "#Harmonic density is a Gaussian\n",
    "harmonic_density = [1/np.sqrt(np.pi)*np.exp(-1.0*x**2) for x in bins]\n",
    "for plot_row in range(2):\n",
    "    for plot_col in range(2):\n",
    "        axs[plot_row,plot_col].set_xlabel(\"Displacement $(1/\\sqrt{\\omega_{\\\\nu}})$\")\n",
    "        axs[plot_row,plot_col].set_ylabel(\"Probability density\")\n",
    "        axs[plot_row,plot_col].set_title(\"Mode # \" + str(mode_list[imode]))\n",
    "        axs[plot_row,plot_col].hist(hist_data[:,0], weights=hist_data[:,imode+1], bins=bins, density=True,\\\n",
    "                      histtype= 'stepfilled', color = 'olive', label = 'PIGLET')\n",
    "        axs[plot_row,plot_col].plot(bins,harmonic_density, linewidth = 1.0, color = 'red', label = \"Harmonic\")\n",
    "        if imode==1:\n",
    "           axs[plot_row,plot_col].legend(loc='best',bbox_to_anchor=(1,1),shadow=True, fontsize='small')\n",
    "        imode += 1\n",
    "plt.show()              "
   ]
  },
  {
   "cell_type": "markdown",
   "id": "52657aa1",
   "metadata": {},
   "source": [
    "1.5.2. Calculation of Anharmonic Measure\n",
    "===\n",
    "Now we will calculate the anharmonic measure as proposed by Carbogno and co-workers, see https://journals.aps.org/prmaterials/abstract/10.1103/PhysRevMaterials.4.083809. For that purpose we need to import anharm module available within pyEPFD. We need a trajectory including the forces. Files co2-1.r and co2-2.r contains forces, Kohn-sham eigenvalues etc. for the PIGLET trajectory sampled every 5-th step after discarding 2000 steps for equilibration.   "
   ]
  },
  {
   "cell_type": "code",
   "execution_count": 6,
   "id": "69d50c45",
   "metadata": {},
   "outputs": [
    {
     "name": "stdout",
     "output_type": "stream",
     "text": [
      "Time spent on qbox class: 0.16231036186218262 s.\n",
      "Time spent on qbox class: 0.1451880931854248 s.\n",
      "Process-id0: Time spent on read_pyepfd_info class: 0.00029730796813964844 s.\n",
      "anharm_measure: Execution time (s): 0.32349658012390137\n"
     ]
    }
   ],
   "source": [
    "from pyepfd.anharm import anharm_measure\n",
    "#We need qbox class to read qbox outputs \n",
    "from pyepfd.coord_util import qbox\n",
    "#We need pyepfd_io module to parse and store restart file\n",
    "from pyepfd.pyepfd_io import *\n",
    "\n",
    "### qbout a list of objects each of which stores qbox output information\n",
    "qbout = [] # initialize it with a empty list\n",
    "##\n",
    "\n",
    "# Initiating the qbout objects from co2-1.r and co2-2.r\n",
    "for i in range(2):\n",
    "    qbout.append( qbox(file_path='co2-'+str(i+1)+'.r', io = 'r') )\n",
    "\n",
    "## Concatenating coordinates and forces into a single array\n",
    "for i in range(len(qbout)):\n",
    "    if i == 0:\n",
    "       coords = qbout[i].coords\n",
    "       forces = qbout[i].forces\n",
    "    else:\n",
    "       coords = np.vstack((coords, qbout[i].coords))\n",
    "       forces = np.vstack((forces, qbout[i].forces))\n",
    "\n",
    "### Now we read the normal mode information from the restart file\n",
    "phonon_info = read_pyepfd_info(file_path='../2_normal_mode_phonon/enmfdphonon.xml')\n",
    "\n",
    "## Now we calculate anharm measure\n",
    "anharm = anharm_measure(dynmat = phonon_info.ref_dynmatrix, \\\n",
    "                        mass = phonon_info.mass, \\\n",
    "                        forces = forces, \\\n",
    "                        disp_coords = coords, \\\n",
    "                        opt_coord = phonon_info.coord, \\\n",
    "                        remove_rot_trans = True,\\\n",
    "                        asr = phonon_info.asr)\n",
    "\n",
    "# We write the informations using write method in anharm object.\n",
    "anharm.write(file_path='co2-100K-piglet',atoms=phonon_info.atoms)\n",
    "\n",
    "# Task complete, we are deleting the anharm object to finish file writing\n",
    "del anharm"
   ]
  },
  {
   "cell_type": "markdown",
   "id": "84779c75",
   "metadata": {},
   "source": [
    "This will create two files storing the mode-resolved and atom resolved anharmonic measures.\n",
    "\n",
    "Let us first look at the mode-resolved measure."
   ]
  },
  {
   "cell_type": "code",
   "execution_count": 7,
   "id": "2acfee66",
   "metadata": {},
   "outputs": [
    {
     "name": "stdout",
     "output_type": "stream",
     "text": [
      "# Mode  Freq(cm-1)       Var(Anh)        Var(Tot)     Anh_Measure \n",
      "#--------------------------------------------------------------\n",
      "    1     -0.0000    5.97692e-06     6.12601e-06       0.987757 \n",
      "    2     -0.0000    6.31072e-06     1.97373e-06        1.78812 \n",
      "    3     -0.0000    0.000206224     8.77498e-06        4.84782 \n",
      "    4      0.0000    6.15809e-06     6.91862e-06       0.943438 \n",
      "    5      0.0000    6.09401e-06     5.90723e-05       0.321188 \n",
      "    6    681.8844    0.000174674     0.000346854       0.709644 \n",
      "    7    681.8851    6.19722e-06     0.000368153       0.129743 \n",
      "    8   1345.3420    5.64072e-06      0.00337331      0.0408921 \n",
      "    9   2367.9766    0.000259688       0.0141033       0.135695 \n",
      "#--------------------------------------------------------------\n",
      "# SUM                7.52182e-05      0.0020305       0.192469\n"
     ]
    }
   ],
   "source": [
    "%%bash\n",
    "cat co2-100K-piglet_mode_res_anh_mes.out"
   ]
  },
  {
   "cell_type": "markdown",
   "id": "2decfd52",
   "metadata": {},
   "source": [
    "We can neglect the first 5-modes (translation & rotation). Now 6th and 7-th modes are degenerate in-plane and out-of-plane bending. Being degenerate, any linear-combination of the obtaned eigenvectors is also a possible description of these normal modes and therefore, there anharmonic measure should not be reported separately but the average anharmonic measure of such Eg modes must be reported. \n",
    "\n",
    "The anharmonic measure is the square-root of the ratio of the varience of anharmonic forces (column 3) and the varience of total force (column 4). Therefore, the average anharmonic measure of the Eg modes can be calculated as shown below."
   ]
  },
  {
   "cell_type": "code",
   "execution_count": 8,
   "id": "55ad0aa4",
   "metadata": {},
   "outputs": [
    {
     "name": "stdout",
     "output_type": "stream",
     "text": [
      "Anharmonic Measure of Bending Modes = 0.5029555295307137\n"
     ]
    }
   ],
   "source": [
    "import numpy as np\n",
    "# Now we read force variences (columns 3 & 4) from the above file\n",
    "f_var = np.genfromtxt(\"co2-100K-piglet_mode_res_anh_mes.out\", usecols=(2,3)) \n",
    "anh_mes = np.sqrt( (f_var[5,0] + f_var[6,0]) / (f_var[5,1] + f_var[6,1]) )\n",
    "print(\"Anharmonic Measure of Bending Modes = \" + str(anh_mes) )"
   ]
  },
  {
   "cell_type": "markdown",
   "id": "f4909887",
   "metadata": {},
   "source": [
    "Similarly we can also check the anharmonic measure of each atom separately."
   ]
  },
  {
   "cell_type": "code",
   "execution_count": 9,
   "id": "adc83dad",
   "metadata": {},
   "outputs": [
    {
     "name": "stdout",
     "output_type": "stream",
     "text": [
      "#  Atom         Var(Anh)        Var(Tot)     Anh_Measure \n",
      "#--------------------------------------------------------\n",
      "    1   O     7.28372e-05      0.0014313       0.225586\n",
      "    2   O     6.23086e-05     0.00135273       0.214619\n",
      "    3   C     9.05087e-05     0.00330748       0.165423\n",
      "#-------------------------------------------------------\n",
      "# SUM         7.52182e-05      0.0020305       0.192469\n"
     ]
    }
   ],
   "source": [
    "%%bash\n",
    "cat co2-100K-piglet_atom_res_anh_mes.out"
   ]
  },
  {
   "cell_type": "markdown",
   "id": "c1c4dbc7",
   "metadata": {},
   "source": [
    "If we want to obtain average anharmonic measure of a group of atoms, e.g., O atoms in CO2 we can compute the average anharmonic measure just we did it for bending modes."
   ]
  },
  {
   "cell_type": "code",
   "execution_count": 10,
   "id": "f052e3e5",
   "metadata": {},
   "outputs": [
    {
     "name": "stdout",
     "output_type": "stream",
     "text": [
      "Anharmonic Measure O atoms = 0.22032527522933562\n"
     ]
    }
   ],
   "source": [
    "import numpy as np\n",
    "# Now we read force variences (columns 3 & 4) from the above file\n",
    "f_var = np.genfromtxt(\"co2-100K-piglet_atom_res_anh_mes.out\", usecols=(2,3)) \n",
    "anh_mes = np.sqrt( (f_var[0,0] + f_var[1,0]) / (f_var[0,1] + f_var[1,1]) )\n",
    "print(\"Anharmonic Measure O atoms = \" + str(anh_mes) )"
   ]
  },
  {
   "cell_type": "code",
   "execution_count": null,
   "id": "4b0de67b",
   "metadata": {},
   "outputs": [],
   "source": []
  }
 ],
 "metadata": {
  "kernelspec": {
   "display_name": "Python 3 (ipykernel)",
   "language": "python",
   "name": "python3"
  },
  "language_info": {
   "codemirror_mode": {
    "name": "ipython",
    "version": 3
   },
   "file_extension": ".py",
   "mimetype": "text/x-python",
   "name": "python",
   "nbconvert_exporter": "python",
   "pygments_lexer": "ipython3",
   "version": "3.8.10"
  }
 },
 "nbformat": 4,
 "nbformat_minor": 5
}
