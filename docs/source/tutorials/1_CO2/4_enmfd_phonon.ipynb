{
 "cells": [
  {
   "cell_type": "markdown",
   "id": "9b03bf80",
   "metadata": {},
   "source": [
    "# 1.2.4 Calculating Infra-Red (IR) Spectrum"
   ]
  },
  {
   "cell_type": "markdown",
   "id": "75be3048",
   "metadata": {},
   "source": [
    "It is possible to compute IR spectrum from a normal mode finite displacement calculation. Traditionally, quantum chemistry codes compute the IR intensities employing double-harmonic approximation, where the transition probability (oscillator strength) is proportional to the square of the first derivative of the total dipole moment of the molecule with respect to the normal coordinates. Here we will use the same apprach, where the normal mode derivative of the dipole moment would be computed using finite displacements, as implemented in PyEPFD. In this example, we will use CO2 molecule, however, the approach is applicable to periodic solids; see the following paper: https://onlinelibrary.wiley.com/doi/10.1002/anie.202420680 and section 17 of the associated supporting information for a recent example.\n",
    "\n",
    "Here, the steps are very similar to the previous exercises: 1.2.1 and 1.2.2. There are two differences. First we have to instruct Qbox code to compute the total dipole monent, which can be done using the \"set polarization MLWF_REF\" command. Secondly, current implementation of Qbox does not compute correct dipole moment if we keep empty orbitals, therefore we have to use default nempty = 0. We are going to use the xyz file that we created in the exercise 1.2.1 but create a new input deck for Qbox calculations. Lets do it."
   ]
  },
  {
   "cell_type": "code",
   "execution_count": 2,
   "id": "81cc81c6",
   "metadata": {},
   "outputs": [
    {
     "name": "stdout",
     "output_type": "stream",
     "text": [
      "\u001b[95mFile \u001b[94menmfd_phonon.xyz\u001b[95m has \u001b[94m3\u001b[95m number of atoms in each frame and a total \u001b[94m19\u001b[95m number of frames.\u001b[00m\n",
      "\u001b[95mNo of species: \u001b[94m2\u001b[00m\n",
      "\u001b[95mPresent species are: \u001b[94m\n",
      "O\n",
      "C\u001b[00m\n",
      "\u001b[95mThe file \u001b[94menmfd_phonon.xyz\u001b[95m is an i-PI output with\u001b[92m pos_unit: \u001b[94mangstrom\u001b[95m and \u001b[92mcell_unit: \u001b[94mangstrom\u001b[00m\n",
      "Enter start frame number: (Default = 1) \n",
      "Enter last frame number: (Default = 19) \n",
      "Enter step frame: (Default = 1) \n",
      "Enter qbox command for 1st iteration: (Default = '  randomize_wf, run -atomic_density 0 100 10')\n",
      "Hint: more than one commands should be separated by a comma.\n",
      " set polarization MLWF_REF, randomize_wf, run -atomic_density 0 100 10\n",
      "Enter qbox run command: (Default = '  run 0 60 10')\n",
      "Hint: more than one commands should be separated by a comma.\n",
      " run 0 100 10\n",
      "Enter qbox plot command: (Default = ' None')\n",
      "Hints:\n",
      "      (1) Example: plot options filename (without .cube extension) \n",
      "      (2) More than one commands should be separated by a comma.\n",
      "\n",
      "Enter qbox spectrum command: (Default = ' None')\n",
      "Hints:\n",
      "      (1) Example: spectrum options filename (without .dat extension) \n",
      " \n",
      "Do you want to save sample for each configurations (y/n)? (Default = n) \n",
      "Enter filename of qbox input: (Default = qbox.i) ir_spectra-1.i\n",
      "Enter xc: (Default = PBE)B3LYP\n",
      "Enter wf_dyn: (Default = JD) PSDA\n",
      "Enter ecut (Ry): (Default = 50.0) \n",
      "Enter scf_tol (Ry): (Default = 1e-08) 1e-12\n",
      "Enter nempty: (Default = 100) 0\n",
      "Enter nspin (1/2): (Default = 1) \n",
      "Enter delta_spin: (Default = None) \n",
      "Enter net_charge: (Default = 0) \n",
      "Enter pseudopotential: (Default = ONCV_PBE-1.0) \n",
      "\u001b[91mWarning!\n",
      "Files: \u001b[94m\n",
      "O_ONCV_PBE-1.0.xml\n",
      "C_ONCV_PBE-1.0.xml\u001b[91m\n",
      "must be present in the following pseudo-potential directory.\n",
      "\u001b[00m../pseudos/\n"
     ]
    }
   ],
   "source": [
    "%run ../../../utils/qbox_utils/xyz2qb.py enmfd_phonon.xyz"
   ]
  },
  {
   "cell_type": "markdown",
   "id": "50580864",
   "metadata": {},
   "source": [
    "As usual, lets have a look at the generated qbox input deck."
   ]
  },
  {
   "cell_type": "code",
   "execution_count": 3,
   "id": "2403d00e",
   "metadata": {},
   "outputs": [
    {
     "name": "stdout",
     "output_type": "stream",
     "text": [
      " species  O  ../pseudos/O_ONCV_PBE-1.0.xml\n",
      " species  C  ../pseudos/C_ONCV_PBE-1.0.xml\n",
      "# Frame 1/19 from enmfd_phonon.xyz#\n",
      " set cell     20.000000     0.000000     0.000000     0.000000    20.000000     0.000000     0.000000     0.000000    20.000000\n",
      " atom   O1   O     0.000000       0.000000       2.186665\n",
      " atom   O2   O     0.000000       0.000000      -2.186662\n",
      " atom   C3   C     0.000000       0.000000      -0.000003\n",
      " set ecut  50.00\n",
      " set xc B3LYP \n",
      " set wf_dyn PSDA \n",
      " set scf_tol 1.00e-12\n",
      " set polarization MLWF_REF\n",
      " randomize_wf\n",
      " run -atomic_density 0 100 10\n",
      "# Frame 2/19 from enmfd_phonon.xyz#\n",
      " set cell     20.000000     0.000000     0.000000     0.000000    20.000000     0.000000     0.000000     0.000000    20.000000\n",
      " move   O1   to       -0.000000      -0.000000       2.475340\n",
      " move   O2   to       -0.000000      -0.000000      -1.897987\n",
      " move   C3   to       -0.000000      -0.000000       0.288672\n",
      " run 0 100 10 \n",
      "# Frame 3/19 from enmfd_phonon.xyz#\n",
      " set cell     20.000000     0.000000     0.000000     0.000000    20.000000     0.000000     0.000000     0.000000    20.000000\n",
      " move   O1   to        0.000000       0.000000       1.897990\n",
      " move   O2   to        0.000000       0.000000      -2.475337\n",
      " move   C3   to        0.000000       0.000000      -0.288678\n",
      " run 0 100 10 \n",
      "# Frame 4/19 from enmfd_phonon.xyz#\n",
      " set cell     20.000000     0.000000     0.000000     0.000000    20.000000     0.000000     0.000000     0.000000    20.000000\n",
      " move   O1   to        0.000000       0.448620       2.186665\n",
      " move   O2   to       -0.000001      -0.172131      -2.186662\n",
      " move   C3   to       -0.000000       0.138244      -0.000003\n",
      " run 0 100 10 \n",
      "# Frame 5/19 from enmfd_phonon.xyz#\n",
      " set cell     20.000000     0.000000     0.000000     0.000000    20.000000     0.000000     0.000000     0.000000    20.000000\n",
      " move   O1   to       -0.000000      -0.448620       2.186665\n",
      " move   O2   to        0.000001       0.172131      -2.186662\n",
      " move   C3   to        0.000000      -0.138244      -0.000003\n",
      " run 0 100 10 \n",
      "# Frame 6/19 from enmfd_phonon.xyz#\n",
      " set cell     20.000000     0.000000     0.000000     0.000000    20.000000     0.000000     0.000000     0.000000    20.000000\n",
      " move   O1   to        0.352008      -0.000001       2.186665\n",
      " move   O2   to       -0.355089       0.000000      -2.186662\n",
      " move   C3   to       -0.001542      -0.000000      -0.000003\n",
      " run 0 100 10 \n",
      "# Frame 7/19 from enmfd_phonon.xyz#\n",
      " set cell     20.000000     0.000000     0.000000     0.000000    20.000000     0.000000     0.000000     0.000000    20.000000\n",
      " move   O1   to       -0.352008       0.000001       2.186665\n",
      " move   O2   to        0.355089      -0.000000      -2.186662\n",
      " move   C3   to        0.001542       0.000000      -0.000003\n",
      " run 0 100 10 \n",
      "# Frame 8/19 from enmfd_phonon.xyz#\n",
      " set cell     20.000000     0.000000     0.000000     0.000000    20.000000     0.000000     0.000000     0.000000    20.000000\n",
      " move   O1   to       -0.290402      -0.000001       2.186665\n",
      " move   O2   to       -0.286941       0.000001      -2.186662\n",
      " move   C3   to       -0.288672      -0.000000      -0.000003\n",
      " run 0 100 10 \n",
      "# Frame 9/19 from enmfd_phonon.xyz#\n",
      " set cell     20.000000     0.000000     0.000000     0.000000    20.000000     0.000000     0.000000     0.000000    20.000000\n",
      " move   O1   to        0.290402       0.000001       2.186665\n",
      " move   O2   to        0.286941      -0.000001      -2.186662\n",
      " move   C3   to        0.288672       0.000000      -0.000003\n",
      " run 0 100 10 \n",
      "# Frame 10/19 from enmfd_phonon.xyz#\n",
      " set cell     20.000000     0.000000     0.000000     0.000000    20.000000     0.000000     0.000000     0.000000    20.000000\n",
      " move   O1   to       -0.000000      -0.100021       2.186665\n",
      " move   O2   to        0.000000      -0.416340      -2.186662\n",
      " move   C3   to       -0.000000      -0.258181      -0.000003\n",
      " run 0 100 10 \n",
      "# Frame 11/19 from enmfd_phonon.xyz#\n",
      " set cell     20.000000     0.000000     0.000000     0.000000    20.000000     0.000000     0.000000     0.000000    20.000000\n",
      " move   O1   to        0.000000       0.100021       2.186665\n",
      " move   O2   to       -0.000000       0.416340      -2.186662\n",
      " move   C3   to        0.000000       0.258181      -0.000003\n",
      " run 0 100 10 \n",
      "# Frame 12/19 from enmfd_phonon.xyz#\n",
      " set cell     20.000000     0.000000     0.000000     0.000000    20.000000     0.000000     0.000000     0.000000    20.000000\n",
      " move   O1   to        0.031448       0.010314       2.186665\n",
      " move   O2   to        0.031448       0.010314      -2.186662\n",
      " move   C3   to       -0.083784      -0.027478      -0.000003\n",
      " run 0 100 10 \n",
      "# Frame 13/19 from enmfd_phonon.xyz#\n",
      " set cell     20.000000     0.000000     0.000000     0.000000    20.000000     0.000000     0.000000     0.000000    20.000000\n",
      " move   O1   to       -0.031448      -0.010314       2.186665\n",
      " move   O2   to       -0.031448      -0.010314      -2.186662\n",
      " move   C3   to        0.083784       0.027478      -0.000003\n",
      " run 0 100 10 \n",
      "# Frame 14/19 from enmfd_phonon.xyz#\n",
      " set cell     20.000000     0.000000     0.000000     0.000000    20.000000     0.000000     0.000000     0.000000    20.000000\n",
      " move   O1   to        0.010314      -0.031448       2.186665\n",
      " move   O2   to        0.010314      -0.031448      -2.186662\n",
      " move   C3   to       -0.027478       0.083784      -0.000003\n",
      " run 0 100 10 \n",
      "# Frame 15/19 from enmfd_phonon.xyz#\n",
      " set cell     20.000000     0.000000     0.000000     0.000000    20.000000     0.000000     0.000000     0.000000    20.000000\n",
      " move   O1   to       -0.010314       0.031448       2.186665\n",
      " move   O2   to       -0.010314       0.031448      -2.186662\n",
      " move   C3   to        0.027478      -0.083784      -0.000003\n",
      " run 0 100 10 \n",
      "# Frame 16/19 from enmfd_phonon.xyz#\n",
      " set cell     20.000000     0.000000     0.000000     0.000000    20.000000     0.000000     0.000000     0.000000    20.000000\n",
      " move   O1   to        0.000000       0.000000       2.216857\n",
      " move   O2   to        0.000000       0.000000      -2.216853\n",
      " move   C3   to       -0.000000      -0.000000      -0.000004\n",
      " run 0 100 10 \n",
      "# Frame 17/19 from enmfd_phonon.xyz#\n",
      " set cell     20.000000     0.000000     0.000000     0.000000    20.000000     0.000000     0.000000     0.000000    20.000000\n",
      " move   O1   to       -0.000000      -0.000000       2.156473\n",
      " move   O2   to       -0.000000      -0.000000      -2.156471\n",
      " move   C3   to        0.000000       0.000000      -0.000002\n",
      " run 0 100 10 \n",
      "# Frame 18/19 from enmfd_phonon.xyz#\n",
      " set cell     20.000000     0.000000     0.000000     0.000000    20.000000     0.000000     0.000000     0.000000    20.000000\n",
      " move   O1   to       -0.000000       0.000000       2.195700\n",
      " move   O2   to       -0.000000       0.000000      -2.177627\n",
      " move   C3   to        0.000000      -0.000000      -0.024074\n",
      " run 0 100 10 \n",
      "# Frame 19/19 from enmfd_phonon.xyz#\n",
      " set cell     20.000000     0.000000     0.000000     0.000000    20.000000     0.000000     0.000000     0.000000    20.000000\n",
      " move   O1   to        0.000000      -0.000000       2.177630\n",
      " move   O2   to        0.000000      -0.000000      -2.195697\n",
      " move   C3   to       -0.000000       0.000000       0.024068\n",
      " run 0 100 10 \n"
     ]
    }
   ],
   "source": [
    "%%bash\n",
    "cat ir_spectra.i"
   ]
  },
  {
   "cell_type": "markdown",
   "id": "e02c3fbc",
   "metadata": {},
   "source": [
    "The next step is to submit those jobs and wait until all calculations finished properly. Once the calculations are finished, the obox outputs must be post-processed to compute the frequency and oscillator strengths and compute the spectra using these informations. Lets do that using the qbox output ir_spectra.r. We also need the output when we performed the normal mode displacement, i.e., the output when we ran ionic_mover class in exercise 1.2.1. We have copied it into the file enmfd.log.\n",
    "\n",
    "Lets begin post-process all the information and compute the spectra."
   ]
  },
  {
   "cell_type": "code",
   "execution_count": 1,
   "id": "e83a41a8",
   "metadata": {},
   "outputs": [
    {
     "name": "stdout",
     "output_type": "stream",
     "text": [
      "                                                 \n",
      "          ███████████                            \n",
      "         ░░███░░░░░███                           \n",
      "          ░███    ░███ █████ ████                \n",
      "          ░██████████ ░░███ ░███                 \n",
      "          ░███░░░░░░   ░███ ░███                 \n",
      "          ░███         ░███ ░███                 \n",
      "          █████        ░░███████                 \n",
      "         ░░░░░          ░░░░░███                 \n",
      "                        ███ ░███                 \n",
      "                       ░░██████                  \n",
      "                        ░░░░░░                   \n",
      " ██████████ ███████████  ███████████ ██████████  \n",
      "░░███░░░░░█░░███░░░░░███░░███░░░░░░█░░███░░░░███ \n",
      " ░███  █ ░  ░███    ░███ ░███   █ ░  ░███   ░░███\n",
      " ░██████    ░██████████  ░███████    ░███    ░███\n",
      " ░███░░█    ░███░░░░░░   ░███░░░█    ░███    ░███\n",
      " ░███ ░   █ ░███         ░███  ░     ░███    ███ \n",
      " ██████████ █████        █████       ██████████  \n",
      "░░░░░░░░░░ ░░░░░        ░░░░░       ░░░░░░░░░░   \n",
      "PyEPFD version     :  1.1\n",
      "Author             : Arpan Kundu\n",
      "Author Email       : arpan.kundu@gmail.com\n",
      "Today              :  2025-01-02 18:30:13.015826\n",
      "*************************************************\n",
      "                   CITATIONS                     \n",
      "=================================================\n",
      "Please cite the following 3 references:          \n",
      "(1) A. Kundu et al, Phys. Rev. Mater (2021), 5,  \n",
      "L070801, \n",
      "(2) A. Kundu and G Galli, \n",
      "J. Chem. Theory. Comput. (2023), 19, 4011\n",
      "(3) https://pyepfd.readthedocs.io/en/latest/\n",
      "*************************************************\n",
      "Time spent on qbox class: 0.020743608474731445 s.\n",
      "\u001b[92m#       Normal Mode Frequency and Dipole Oscillator Strength(IR)          \n",
      "#-------------------------------------------------------------------------------------------------\n",
      "#   Mode No           Freq(cm-1)           Oscillator Strength (Central/Forward/Backword)         |\n",
      "#------------------------------------------------------------------------------------------------\u001b[00m\n",
      "       1                  nan                 3.0393204e-13     3.0820056e-13     3.0978919e-13\n",
      "       2                79.30                  4.747106e-13     1.5042384e-12     1.5545001e-12\n",
      "       3               106.59                 3.2775993e-17     3.8025423e-15     2.8191894e-15\n",
      "       4                  nan                 4.1862717e-14     7.3225319e-14     1.9810694e-14\n",
      "       5                  nan                 8.2335805e-14     1.4745235e-13     1.2574617e-13\n",
      "       6               676.09                 1.6850272e-05     1.6848689e-05     1.6851855e-05\n",
      "       7               676.09                 1.6850181e-05     1.6850613e-05     1.6849748e-05\n",
      "       8              1345.45                  2.265674e-13     1.4833742e-12     1.5599035e-12\n",
      "       9              2361.85                 0.00038054978     0.00038054979     0.00038054977\n"
     ]
    },
    {
     "name": "stderr",
     "output_type": "stream",
     "text": [
      "/home/arpan/.local/lib/python3.8/site-packages/pyepfd/vibrational_spectra.py:265: RuntimeWarning: invalid value encountered in sqrt\n",
      "  omega = np.sqrt(hessian) * ha2unit[freq_unit]\n"
     ]
    }
   ],
   "source": [
    "from pyepfd.vibrational_spectra import *\n",
    "# Initiating the qbox_ir class\n",
    "co2 = qbox_ir(file_path = 'enmfd.log',\n",
    "              qb_output_path = './',\n",
    "              qb_prefix = 'ir_spectra',\n",
    "              asr = 'lin',\n",
    "              save_path = 'co2-freq-osc-str.npz')\n",
    "# calculating the frequency and oscillator strength\n",
    "# using normal mode finite-displacement\n",
    "co2.calc_freq_osc_str()\n",
    "# Printing the frequency and oscillator strengths\n",
    "co2.print_freq_osc_str()\n",
    "# Saving the freq, and oscillator strengths at\n",
    "# co2-freq-osc-str.npz\n",
    "co2.save()"
   ]
  },
  {
   "cell_type": "markdown",
   "id": "71b6c860",
   "metadata": {},
   "source": [
    "The print method would print all the modes that we have computed. As usual, the first 5 modes are not meaningful as they represent rigid body rotation and translations of the CO2 molecule. The save command would save only the last 4 modes as we have used asr = 'lin'. Lets have a look at the data contained in co2-freq-osc-str.npz. "
   ]
  },
  {
   "cell_type": "code",
   "execution_count": 2,
   "id": "279d88ce",
   "metadata": {},
   "outputs": [
    {
     "name": "stdout",
     "output_type": "stream",
     "text": [
      "[ 676.08784227  676.08784227 1345.44790558 2361.84521762]\n",
      "[1.68502722e-05 1.68501808e-05 2.26567404e-13 3.80549776e-04]\n"
     ]
    }
   ],
   "source": [
    "import numpy as np\n",
    "freq_osc_str = np.load('co2-freq-osc-str.npz')\n",
    "print(freq_osc_str['omega'])\n",
    "print(freq_osc_str['osc_str'])"
   ]
  },
  {
   "cell_type": "markdown",
   "id": "09dcbc18",
   "metadata": {},
   "source": [
    "We know that degenerate bending modes (676.0 cm-1) and asymetric stretching modes (2361.8 cm-1) are IR active as they involves change of total dipole moment, while the symmetric stretching mode (1345.4 cm-1) is not IR active. Indeed we see that the symmetric stretching mode has very low intensity. Lets use this data to compute a spectra. \n",
    "\n",
    "The co2 class has these saved data, therefore we can directly use a method named calc_spectra() available within the co2 class. Lets do it and plot the spectra using matplotlib. We will do it using Lorentzinan broadening using three different broadening parameter of 100 cm-1.Note, if the co2-freq-osc-str.npz file is already present, then those data can be read and compute the spectra using the add_broadening() method, see the documentation for the vibrational_spectra module for more informations. "
   ]
  },
  {
   "cell_type": "code",
   "execution_count": 3,
   "id": "fab2ed10",
   "metadata": {},
   "outputs": [
    {
     "data": {
      "image/png": "[encoded data removed]",
      "text/plain": [
       "<Figure size 640x480 with 1 Axes>"
      ]
     },
     "metadata": {},
     "output_type": "display_data"
    }
   ],
   "source": [
    "import matplotlib.pyplot as plt\n",
    "\n",
    "\n",
    "co2.calc_spectra(line_profile='Lorentzian', \n",
    "                line_param = 100, step = 1,\n",
    "                save_path = 'co2_ir.npz')\n",
    "plt.xlabel(\"Wavenumbers (cm$^{-1}$)\")\n",
    "plt.ylabel(\"Intensities (a.u)\")\n",
    "plt.yticks([]) # Showing no y-ticks as units are arbitrary\n",
    "plt.plot(co2.spectra[0],co2.spectra[1])\n",
    "plt.show()"
   ]
  },
  {
   "cell_type": "markdown",
   "id": "785d15df",
   "metadata": {},
   "source": [
    "This would also create a co2_ir.npz, which could be later used to redraw the spectra as shown below.\n"
   ]
  },
  {
   "cell_type": "code",
   "execution_count": 4,
   "id": "c38487e6",
   "metadata": {},
   "outputs": [
    {
     "data": {
      "image/png": "[encoded data removed]",
      "text/plain": [
       "<Figure size 640x480 with 1 Axes>"
      ]
     },
     "metadata": {},
     "output_type": "display_data"
    }
   ],
   "source": [
    "co2_spectra = np.load(\"co2_ir.npz\")['spectra']\n",
    "plt.xlabel(\"Wavenumbers (cm$^{-1}$)\")\n",
    "plt.ylabel(\"Intensities (a.u)\")\n",
    "plt.yticks([]) # Showing no y-ticks as units are arbitrary\n",
    "plt.plot(co2_spectra[0],co2_spectra[1])\n",
    "plt.show()"
   ]
  }
 ],
 "metadata": {
  "kernelspec": {
   "display_name": "Python 3 (ipykernel)",
   "language": "python",
   "name": "python3"
  },
  "language_info": {
   "codemirror_mode": {
    "name": "ipython",
    "version": 3
   },
   "file_extension": ".py",
   "mimetype": "text/x-python",
   "name": "python",
   "nbconvert_exporter": "python",
   "pygments_lexer": "ipython3",
   "version": "3.8.10"
  }
 },
 "nbformat": 4,
 "nbformat_minor": 5
}
