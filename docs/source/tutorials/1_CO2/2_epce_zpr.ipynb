{
 "cells": [
  {
   "cell_type": "markdown",
   "id": "e69d043c",
   "metadata": {},
   "source": [
    "# 1.4.2 EPCE and ZPR using FP: Post-processing the inputs.\n",
    "In this step we would write a post-processing script to compute electron-phonon coupling energies (EPCE), zero-point renormalization (ZPR) or renormalization at finite temperature.\n",
    "\n",
    "We need electron-phonon from finite difference (epfd) module, numpy and os. Lets import them first.\n"
   ]
  },
  {
   "cell_type": "code",
   "execution_count": 1,
   "id": "dc33cf46",
   "metadata": {},
   "outputs": [
    {
     "name": "stdout",
     "output_type": "stream",
     "text": [
      "                                                 \n",
      "          ███████████                            \n",
      "         ░░███░░░░░███                           \n",
      "          ░███    ░███ █████ ████                \n",
      "          ░██████████ ░░███ ░███                 \n",
      "          ░███░░░░░░   ░███ ░███                 \n",
      "          ░███         ░███ ░███                 \n",
      "          █████        ░░███████                 \n",
      "         ░░░░░          ░░░░░███                 \n",
      "                        ███ ░███                 \n",
      "                       ░░██████                  \n",
      "                        ░░░░░░                   \n",
      " ██████████ ███████████  ███████████ ██████████  \n",
      "░░███░░░░░█░░███░░░░░███░░███░░░░░░█░░███░░░░███ \n",
      " ░███  █ ░  ░███    ░███ ░███   █ ░  ░███   ░░███\n",
      " ░██████    ░██████████  ░███████    ░███    ░███\n",
      " ░███░░█    ░███░░░░░░   ░███░░░█    ░███    ░███\n",
      " ░███ ░   █ ░███         ░███  ░     ░███    ███ \n",
      " ██████████ █████        █████       ██████████  \n",
      "░░░░░░░░░░ ░░░░░        ░░░░░       ░░░░░░░░░░   \n",
      "PyEPFD version     :  1.1\n",
      "Author             : Arpan Kundu\n",
      "Author Email       : arpan.kundu@gmail.com\n",
      "Today              :  2024-12-18 17:25:04.685580\n",
      "*************************************************\n",
      "                   CITATIONS                     \n",
      "=================================================\n",
      "Please cite the following 3 references:          \n",
      "(1) A. Kundu et al, Phys. Rev. Mater (2021), 5,  \n",
      "L070801, \n",
      "(2) A. Kundu and G Galli, \n",
      "J. Chem. Theory. Comput. (2023), 19, 4011\n",
      "(3) https://pyepfd.readthedocs.io/en/latest/\n",
      "*************************************************\n"
     ]
    }
   ],
   "source": [
    "import os\n",
    "import numpy as np\n",
    "import pyepfd.epfd as ep"
   ]
  },
  {
   "cell_type": "markdown",
   "id": "09a0ce11",
   "metadata": {},
   "source": [
    "Now we will define the directories where all input files are present as well as where the outputs would be written. Within the electron-phonon class there are objects \"inp_dir\" and \"out_dir\" for that purpose. Our input directory is the current one, i.e. \"./\", lets name the output directory as \"epfd_out\". We further tell that if epfd_directory does not exist then it will create that directory\n"
   ]
  },
  {
   "cell_type": "code",
   "execution_count": 2,
   "id": "b9988a18",
   "metadata": {},
   "outputs": [],
   "source": [
    "ep.inp_dir = \"./\"\n",
    "ep.out_dir = \"epfd_out\"\n",
    "if not os.path.isdir(ep.out_dir):\n",
    "   os.system(\"mkdir \"+ep.out_dir)"
   ]
  },
  {
   "cell_type": "markdown",
   "id": "ddbc442f",
   "metadata": {},
   "source": [
    "Now we will define a linear temperature grid from 0.0 K to 1100.0 K with 111 points in it. We will use temp_grid method available within ep class defined above. "
   ]
  },
  {
   "cell_type": "code",
   "execution_count": 3,
   "id": "a84cbb54",
   "metadata": {},
   "outputs": [
    {
     "name": "stdout",
     "output_type": "stream",
     "text": [
      "[   0.   10.   20.   30.   40.   50.   60.   70.   80.   90.  100.  110.\n",
      "  120.  130.  140.  150.  160.  170.  180.  190.  200.  210.  220.  230.\n",
      "  240.  250.  260.  270.  280.  290.  300.  310.  320.  330.  340.  350.\n",
      "  360.  370.  380.  390.  400.  410.  420.  430.  440.  450.  460.  470.\n",
      "  480.  490.  500.  510.  520.  530.  540.  550.  560.  570.  580.  590.\n",
      "  600.  610.  620.  630.  640.  650.  660.  670.  680.  690.  700.  710.\n",
      "  720.  730.  740.  750.  760.  770.  780.  790.  800.  810.  820.  830.\n",
      "  840.  850.  860.  870.  880.  890.  900.  910.  920.  930.  940.  950.\n",
      "  960.  970.  980.  990. 1000. 1010. 1020. 1030. 1040. 1050. 1060. 1070.\n",
      " 1080. 1090. 1100.]\n"
     ]
    }
   ],
   "source": [
    "T = ep.temp_grid( T_start = 0.0, T_end = 1100.0, NT = 111 )\n",
    "print(T)"
   ]
  },
  {
   "cell_type": "markdown",
   "id": "964e2f22",
   "metadata": {},
   "source": [
    "Now we will define a \"homo\" class with the available input files using frozen-phonon harmonic class (fph) available within epfd object (imported here as ep). HOMO is 2-fold degenerate at equilibrium geometry, however, when we displace it degeneracies may be lost. In the displaced cooddinates we will assume them to be degenerate if the energy difference is less than 0.002 eV.\n",
    "\n",
    "After defining the homo class, we will compute the renormalized band energies using a method named eigval_at_temp. This will create a list of renormalized eigenvalues / band energies and store them within an object homo.renorm_eigval"
   ]
  },
  {
   "cell_type": "code",
   "execution_count": 4,
   "id": "17ea109c",
   "metadata": {},
   "outputs": [
    {
     "name": "stdout",
     "output_type": "stream",
     "text": [
      "Process-id0: Time spent on read_pyepfd_info class: 0.0012581348419189453 s.\n",
      "ZPR (meV) for homo:\n",
      "Orbital-7  49.63074301665274\n",
      "Orbital-8  58.95381558176698\n"
     ]
    }
   ],
   "source": [
    "homo = ep.fph(phonon_info_file='enmfdphonon.xml',\n",
    "             eigval_file = \"homo.eigval.dat\",\n",
    "             overlap_file = \"orbital-0.overlap\",\n",
    "             degeneracy_cutoff = 0.002,\n",
    "             output_prefix = \"homo\"\n",
    "            )\n",
    "homo.eigval_at_temp(T)\n",
    "\n",
    "#print(\"\\nRenormalized Eigenvalues for band 7 & 8\\n\")\n",
    "#print(homo.renorm_eigval)\n",
    "# deleting the homo object for completeing file writing\n",
    "del homo"
   ]
  },
  {
   "cell_type": "markdown",
   "id": "bb40fe92",
   "metadata": {},
   "source": [
    "Similarly we can compute the renormalized energies for LUMO. We do not need overlap_file as it is singly degenerate at equilibrium geometry. Neither we do need the degeneracy cutoff."
   ]
  },
  {
   "cell_type": "code",
   "execution_count": 5,
   "id": "0640d68f",
   "metadata": {},
   "outputs": [
    {
     "name": "stdout",
     "output_type": "stream",
     "text": [
      "Process-id0: Time spent on read_pyepfd_info class: 0.0004923343658447266 s.\n",
      "ZPR (meV) for lumo:\n",
      "Orbital-9  -88.48019533017887\n"
     ]
    }
   ],
   "source": [
    "lumo = ep.fph(\n",
    "             phonon_info_file='enmfdphonon.xml',\n",
    "             eigval_file = \"lumo.eigval.dat\",\n",
    "             output_prefix = \"lumo\"\n",
    "               )\n",
    "lumo.eigval_at_temp(T)\n",
    "\n",
    "#print(\"\\nRenormalized Eigenvalues for band 9\\n\")\n",
    "#print(lumo.renorm_eigval)\n",
    "# deleting lumo object for completing file writing\n",
    "del lumo"
   ]
  },
  {
   "cell_type": "markdown",
   "id": "21f4ab45",
   "metadata": {},
   "source": [
    "Now we have obtained two ZPR values for HOMO, 49 meV and 59 meV. This is because of splitting of degeneracy. The average HOMO renormalization without considering the splitting would be (49+59)/2 meV = 54 meV.  \n",
    "Now let us have a look at the directory epfd_out\n"
   ]
  },
  {
   "cell_type": "code",
   "execution_count": 6,
   "id": "574eb3f8",
   "metadata": {},
   "outputs": [
    {
     "name": "stdout",
     "output_type": "stream",
     "text": [
      "homo.epce.dat\n",
      "homo.pyepfd.log\n",
      "homo.tscan.eigval\n",
      "lumo.epce.dat\n",
      "lumo.pyepfd.log\n",
      "lumo.tscan.eigval\n"
     ]
    }
   ],
   "source": [
    "%%bash\n",
    "ls epfd_out/"
   ]
  },
  {
   "cell_type": "markdown",
   "id": "774bcff6",
   "metadata": {},
   "source": [
    "homo.epce.dat file contains the electron-phonon coupling energy for band 7 and 8 along each mode. homo.tscan.eigval contains the renormalized band-energies.  "
   ]
  },
  {
   "cell_type": "code",
   "execution_count": 7,
   "id": "0cb479d6",
   "metadata": {},
   "outputs": [
    {
     "name": "stdout",
     "output_type": "stream",
     "text": [
      "# Column-1 ==> Normal Mode Number\n",
      "# Column-2 ==> Normal Mode Frequency (cm-1)calculated based on normal mode hessian.\n",
      "# Column-3 ==> EPCE: value(meV) [percentage] for Orbital-7\n",
      "# Column-4 ==> EPCE: value(meV) [percentage] for Orbital-8\n",
      "     6      676.086354     10.7385 [  10.818 ]       20.0616 [  17.015 ]  \n",
      "     7      676.087602     10.7386 [  10.818 ]       20.0617 [  17.015 ]  \n",
      "     8     1345.456097    0.499236 [   0.503 ]      0.499236 [   0.423 ]  \n",
      "     9     2361.832806     77.2852 [  77.860 ]       77.2852 [  65.547 ]  \n",
      "#   EPCE SUM (meV) =        99.2615 [ 100.000 ]       117.908 [ 100.000 ]  \n",
      "#      ZPR (meV) =          49.6307 [ 100.000 ]       58.9538 [ 100.000 ]  \n",
      "\n"
     ]
    }
   ],
   "source": [
    "homo_epce_file = open(\"epfd_out/homo.epce.dat\",\"r\").read()\n",
    "print(homo_epce_file)    "
   ]
  },
  {
   "cell_type": "code",
   "execution_count": 8,
   "id": "c8f32f2d",
   "metadata": {},
   "outputs": [
    {
     "name": "stdout",
     "output_type": "stream",
     "text": [
      "# Thermally averaged energies (eV) are sorted in increasing order.\n",
      "# Column-1 ==> Temperature(K)\n",
      "# Column-2 ==>  Orbital-7\n",
      "# Column-3 ==>  Orbital-8\n",
      "      0.00      -10.459491      -10.450168 \n",
      "     10.00      -10.459491      -10.450168 \n",
      "     20.00      -10.459491      -10.450168 \n",
      "     30.00      -10.459491      -10.450168 \n",
      "     40.00      -10.459491      -10.450168 \n",
      "     50.00      -10.459491      -10.450168 \n"
     ]
    }
   ],
   "source": [
    "%%bash\n",
    "head epfd_out/homo.tscan.eigval"
   ]
  },
  {
   "cell_type": "markdown",
   "id": "8e92984d",
   "metadata": {},
   "source": [
    "We can plot the band gap renormalization as a function of temperature using tscan.eigval files."
   ]
  },
  {
   "cell_type": "code",
   "execution_count": 9,
   "id": "63f86355",
   "metadata": {
    "scrolled": true
   },
   "outputs": [
    {
     "data": {
      "image/png": "[encoded data removed]",
      "text/plain": [
       "<Figure size 640x480 with 1 Axes>"
      ]
     },
     "metadata": {},
     "output_type": "display_data"
    }
   ],
   "source": [
    "import numpy as np\n",
    "import matplotlib.pyplot as plt\n",
    "static_gap = 9.5794   ### in eV; clamped nuclei\n",
    "homo = np.genfromtxt(\"epfd_out/homo.tscan.eigval\")\n",
    "temp = homo[:,0] #First column is temperature\n",
    "### Average energy of orbitals 7 and 8; called center gap\n",
    "homo_center = 0.5*(homo[:,1] + homo[:,2])\n",
    "homo_edge = homo[:,2]\n",
    "# 2nd column of the following file have LUMO energies\n",
    "lumo = np.genfromtxt(\"epfd_out/lumo.tscan.eigval\")[:,1]\n",
    "#Renormalized band gap without considering degeneracy lifting\n",
    "gap_center = lumo - homo_center\n",
    "renorm_center = (gap_center - static_gap) * 1000 #eV to meV\n",
    "#Renormalized band gap when splitting is considered; i.e.\n",
    "# shortest band gap\n",
    "gap_edge = lumo - homo_edge\n",
    "renorm_edge = (gap_edge - static_gap) * 1000 #ev to meV\n",
    "\n",
    "## plotting\n",
    "plt.xlabel(\"Temperature (K)\")\n",
    "plt.ylabel(\"Gap renorm. (meV)\")\n",
    "plt.plot(temp,renorm_center,label=\"Center\")\n",
    "plt.plot(temp,renorm_edge,label=\"Edge\")\n",
    "plt.legend()\n",
    "plt.show()"
   ]
  }
 ],
 "metadata": {
  "kernelspec": {
   "display_name": "Python 3 (ipykernel)",
   "language": "python",
   "name": "python3"
  },
  "language_info": {
   "codemirror_mode": {
    "name": "ipython",
    "version": 3
   },
   "file_extension": ".py",
   "mimetype": "text/x-python",
   "name": "python",
   "nbconvert_exporter": "python",
   "pygments_lexer": "ipython3",
   "version": "3.8.10"
  }
 },
 "nbformat": 4,
 "nbformat_minor": 5
}
