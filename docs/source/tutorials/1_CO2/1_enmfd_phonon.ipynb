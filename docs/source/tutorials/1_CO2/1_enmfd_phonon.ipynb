{
 "cells": [
  {
   "cell_type": "markdown",
   "id": "07c653fd",
   "metadata": {},
   "source": [
    "# 1.2.1 Phonon Calculation: Displacing the Atoms along Normal Modes.\n",
    "\n",
    "Once a Cartesian Phonon Calculation is performed and Normal modes are obtained, phonons can be recomputed by displacing the atoms along those normal modes. A phonon calculated along normal mode displacements have less numerical noise, particularly for low frequency modes and these frequencies give numerically more accurate free energies, see for example the following two papers:\n",
    "(1) https://doi.org/10.1021/ct500291x &\n",
    "(2) https://doi.org/10.1021/jacs.6b08646.\n",
    "\n",
    "To calculate electron phonon coupling energies (EPCE), which are defined as the second derivative of the band energies (Kohn-Sham eigenvalues) with respect to a particular phonon mode, see Eq. S2 of the following paper: https://doi.org/10.1103/PhysRevMaterials.5.L070801. The sum of EPCEs over all phonon modes is the zero-point renormalization (ZPR) of that band. To compute EPCEs or ZPR using a frozen phonon method, it is necessary to recompute phonons by displacing the atoms along normal modes. In this exercise we will learn that. \n",
    "\n",
    "The first step is to prepare the displaced coordinates. For that purpose again we import the following coordinate utilities tools, electron-phonon classes and pyepfd input/output tools from pyepfd."
   ]
  },
  {
   "cell_type": "code",
   "execution_count": 1,
   "id": "77fb8668",
   "metadata": {},
   "outputs": [
    {
     "name": "stdout",
     "output_type": "stream",
     "text": [
      "          ███████████                            \n",
      "         ░░███░░░░░███                           \n",
      "          ░███    ░███ █████ ████                \n",
      "          ░██████████ ░░███ ░███                 \n",
      "          ░███░░░░░░   ░███ ░███                 \n",
      "          ░███         ░███ ░███                 \n",
      "          █████        ░░███████                 \n",
      "         ░░░░░          ░░░░░███                 \n",
      "                        ███ ░███                 \n",
      "                       ░░██████                  \n",
      "                        ░░░░░░                   \n",
      " ██████████ ███████████  ███████████ ██████████  \n",
      "░░███░░░░░█░░███░░░░░███░░███░░░░░░█░░███░░░░███ \n",
      " ░███  █ ░  ░███    ░███ ░███   █ ░  ░███   ░░███\n",
      " ░██████    ░██████████  ░███████    ░███    ░███\n",
      " ░███░░█    ░███░░░░░░   ░███░░░█    ░███    ░███\n",
      " ░███ ░   █ ░███         ░███  ░     ░███    ███ \n",
      " ██████████ █████        █████       ██████████  \n",
      "░░░░░░░░░░ ░░░░░        ░░░░░       ░░░░░░░░░░   \n",
      "PyEPFD version     :  1.0\n",
      "Author             : Arpan Kundu\n",
      "Author Email       : arpan.kundu@gmail.com\n",
      "Today              :  2023-05-09 20:08:35.845891\n"
     ]
    }
   ],
   "source": [
    "from pyepfd.coord_util import *\n",
    "from pyepfd.elph_classes import *\n",
    "from pyepfd.pyepfd_io import *"
   ]
  },
  {
   "cell_type": "markdown",
   "id": "e35e461a",
   "metadata": {},
   "source": [
    "Next, we will read all information from the checkpoint/restart XML file created in the previous step, i.e., Cartesian phonon calculation. We would instantiate an object named enmfd_inp of class read_pyepfd_info that belongs to coord_util object. The class read_pyepfd_info has several objects such as acoustic sum rule (asr), refined dynamical matrix (ref_dynmatrix), optimized coordinates(coord), atoms and cell.  "
   ]
  },
  {
   "cell_type": "code",
   "execution_count": 2,
   "id": "d6dd72f8",
   "metadata": {},
   "outputs": [
    {
     "name": "stdout",
     "output_type": "stream",
     "text": [
      "Time spent on read_pyepfd_info class: 0.0005269050598144531 s.\n"
     ]
    }
   ],
   "source": [
    "enmfd_inp = read_pyepfd_info(\\\n",
    "            file_path='../1_cartesian_phonon/fdphonon.xml')"
   ]
  },
  {
   "cell_type": "markdown",
   "id": "2ee7fee3",
   "metadata": {},
   "source": [
    "Now we would save these informations into different variables."
   ]
  },
  {
   "cell_type": "code",
   "execution_count": 3,
   "id": "48f3871a",
   "metadata": {},
   "outputs": [],
   "source": [
    "asr = enmfd_inp.asr\n",
    "inp_dynmat = enmfd_inp.ref_dynmatrix\n",
    "opt_coord = enmfd_inp.coord\n",
    "atoms = enmfd_inp.atoms\n",
    "cell = enmfd_inp.cell"
   ]
  },
  {
   "cell_type": "markdown",
   "id": "e7aa0038",
   "metadata": {},
   "source": [
    "Like Cartesian phonon calculation, we again instantiate an object named fdmoves of ionic_mover class. Here we would use mode = 'ENMFD', i.e. energy-scaled normal mode finite displacement. Here we also need to provide the dynamical matrix (key: dynmat) and target energy displacement (deltae). Our target energy displacement is 0.001 Ha.  "
   ]
  },
  {
   "cell_type": "code",
   "execution_count": 4,
   "id": "52f7bb2c",
   "metadata": {},
   "outputs": [
    {
     "name": "stdout",
     "output_type": "stream",
     "text": [
      "#Mode =      1 Disp-step(au) =    81.7641 Disp-step(Freq-scaled) =        nan\n",
      "#Config    Disp(au)   Disp(Freq-scaled)\n",
      " 2       81.7641           nan\n",
      " 3      -81.7641           nan\n",
      "#Mode =      2 Disp-step(au) =    84.5714 Disp-step(Freq-scaled) =        nan\n",
      "#Config    Disp(au)   Disp(Freq-scaled)\n",
      " 4       84.5714           nan\n",
      " 5      -84.5714           nan\n",
      "#Mode =      3 Disp-step(au) =    85.3889 Disp-step(Freq-scaled) =        nan\n",
      "#Config    Disp(au)   Disp(Freq-scaled)\n",
      " 6       85.3889           nan\n",
      " 7      -85.3889           nan\n",
      "#Mode =      4 Disp-step(au) =    81.7642 Disp-step(Freq-scaled) =     0.0162\n",
      "#Config    Disp(au)   Disp(Freq-scaled)\n",
      " 8       81.7642        0.0162\n",
      " 9      -81.7642       -0.0162\n",
      "#Mode =      5 Disp-step(au) =    82.5022 Disp-step(Freq-scaled) =     0.0239\n",
      "#Config    Disp(au)   Disp(Freq-scaled)\n",
      " 10       82.5022        0.0239\n",
      " 11      -82.5022       -0.0239\n",
      "#Mode =      6 Disp-step(au) =    15.3008 Disp-step(Freq-scaled) =     0.8272\n",
      "#Config    Disp(au)   Disp(Freq-scaled)\n",
      " 12       15.3008        0.8272\n",
      " 13      -15.3008       -0.8272\n",
      "#Mode =      7 Disp-step(au) =    15.3008 Disp-step(Freq-scaled) =     0.8272\n",
      "#Config    Disp(au)   Disp(Freq-scaled)\n",
      " 14       15.3008        0.8272\n",
      " 15      -15.3008       -0.8272\n",
      "#Mode =      8 Disp-step(au) =     7.2918 Disp-step(Freq-scaled) =     0.5710\n",
      "#Config    Disp(au)   Disp(Freq-scaled)\n",
      " 16        7.2918        0.5710\n",
      " 17       -7.2918       -0.5710\n",
      "#Mode =      9 Disp-step(au) =     4.1770 Disp-step(Freq-scaled) =     0.4322\n",
      "#Config    Disp(au)   Disp(Freq-scaled)\n",
      " 18        4.1770        0.4322\n",
      " 19       -4.1770       -0.4322\n",
      "Time spent on ionic_mover class: 0.0017631053924560547 s.\n"
     ]
    },
    {
     "name": "stderr",
     "output_type": "stream",
     "text": [
      "/home/arpan/.local/lib/python3.8/site-packages/pyepfd/coord_util.py:676: RuntimeWarning: invalid value encountered in sqrt\n",
      "  freq_scaling = np.sqrt(nmfd.omega[imode])\n"
     ]
    }
   ],
   "source": [
    "fdmoves = ionic_mover( atoms = atoms,\\\n",
    "                      opt_coord = opt_coord,\\\n",
    "                      mode = 'ENMFD', \\\n",
    "                      dynmat = inp_dynmat,\\\n",
    "                      deltax = 0.005,\\\n",
    "                      deltae = 0.001 )"
   ]
  },
  {
   "cell_type": "markdown",
   "id": "a2e85a33",
   "metadata": {},
   "source": [
    "First 5 modes are rigid body translation and rotation mode and in frequency scaled coordinate displacement are imaginary. This is okay. \n",
    "\n",
    "Now all the displaced coordinates are stored within fdmoves object. Next step is to write them into an xyz file. To do that we instantiate an object named out_xyz of class xyz with input/output mode write(w). "
   ]
  },
  {
   "cell_type": "code",
   "execution_count": 5,
   "id": "219e8ae0",
   "metadata": {},
   "outputs": [
    {
     "name": "stdout",
     "output_type": "stream",
     "text": [
      "Time spent on xyz class: 0.0002453327178955078 s.\n"
     ]
    }
   ],
   "source": [
    "out_xyz = xyz(file_path = 'enmfd_phonon.xyz',\\\n",
    "              io = 'w', atoms = atoms)"
   ]
  },
  {
   "cell_type": "markdown",
   "id": "aa7bbe42",
   "metadata": {},
   "source": [
    "Next we write the enmfd_phonon.xyz file step by step applying a loop."
   ]
  },
  {
   "cell_type": "code",
   "execution_count": 6,
   "id": "ca33d931",
   "metadata": {},
   "outputs": [],
   "source": [
    "ndisp = fdmoves.disp_coord.shape[1]\n",
    "for i in range(ndisp):\n",
    "    out_xyz.write(cell = cell,coord = fdmoves.disp_coord[:,i])\n",
    "del out_xyz"
   ]
  },
  {
   "cell_type": "markdown",
   "id": "7fc009b9",
   "metadata": {},
   "source": [
    "This generated the coordinates by displacing the atoms along normal modes and wrote it into enmfd_phonon.xyz file.\n",
    "Let us have a look at this file."
   ]
  },
  {
   "cell_type": "code",
   "execution_count": 7,
   "id": "ea06c4c9",
   "metadata": {},
   "outputs": [
    {
     "name": "stdout",
     "output_type": "stream",
     "text": [
      "3\n",
      "# CELL(abcABC):   10.58354    10.58354    10.58354    90.00000    90.00000    90.00000  PyEPFD-Step: 0 positions{angstrom} cell{angstrom}\n",
      "O                  0                0        1.1571328\n",
      "O                  0                0       -1.1571313\n",
      "C                  0                0   -1.5875317e-06\n",
      "3\n",
      "# CELL(abcABC):   10.58354    10.58354    10.58354    90.00000    90.00000    90.00000  PyEPFD-Step: 1 positions{angstrom} cell{angstrom}\n",
      "O     -2.1644539e-08   -1.3546308e-09        1.3098932\n",
      "O     -1.0825663e-08   -8.5003505e-09       -1.0043709\n",
      "C      -1.623509e-08    -4.927498e-09       0.15275873\n",
      "3\n",
      "# CELL(abcABC):   10.58354    10.58354    10.58354    90.00000    90.00000    90.00000  PyEPFD-Step: 2 positions{angstrom} cell{angstrom}\n",
      "O      2.1644539e-08    1.3546308e-09        1.0043725\n",
      "O      1.0825663e-08    8.5003505e-09       -1.3098916\n",
      "C       1.623509e-08     4.927498e-09       -0.1527619\n",
      "3\n",
      "# CELL(abcABC):   10.58354    10.58354    10.58354    90.00000    90.00000    90.00000  PyEPFD-Step: 3 positions{angstrom} cell{angstrom}\n",
      "O      1.5349446e-07       0.23739929        1.1571328\n",
      "O     -6.6299837e-07      -0.09108796       -1.1571313\n",
      "C     -2.5475279e-07      0.073155326   -1.5879651e-06\n",
      "3\n",
      "# CELL(abcABC):   10.58354    10.58354    10.58354    90.00000    90.00000    90.00000  PyEPFD-Step: 4 positions{angstrom} cell{angstrom}\n",
      "O     -1.5349446e-07      -0.23739929        1.1571328\n",
      "O      6.6299837e-07       0.09108796       -1.1571313\n",
      "C      2.5475279e-07     -0.073155326   -1.5870984e-06\n",
      "3\n",
      "# CELL(abcABC):   10.58354    10.58354    10.58354    90.00000    90.00000    90.00000  PyEPFD-Step: 5 positions{angstrom} cell{angstrom}\n",
      "O          0.1862744   -5.6314584e-07        1.1571328\n",
      "O        -0.18790509    6.5617577e-08       -1.1571312\n",
      "C     -0.00081572774   -2.4876349e-07   -1.5828014e-06\n",
      "3\n",
      "# CELL(abcABC):   10.58354    10.58354    10.58354    90.00000    90.00000    90.00000  PyEPFD-Step: 6 positions{angstrom} cell{angstrom}\n",
      "O         -0.1862744    5.6314584e-07        1.1571328\n",
      "O         0.18790509   -6.5617577e-08       -1.1571313\n",
      "C      0.00081572774    2.4876349e-07   -1.5922621e-06\n",
      "3\n",
      "# CELL(abcABC):   10.58354    10.58354    10.58354    90.00000    90.00000    90.00000  PyEPFD-Step: 7 positions{angstrom} cell{angstrom}\n",
      "O        -0.15367421     -3.37338e-07        1.1571328\n",
      "O        -0.15184276    2.6639613e-07       -1.1571313\n",
      "C        -0.15275848   -3.5470314e-08   -1.6037902e-06\n",
      "3\n",
      "# CELL(abcABC):   10.58354    10.58354    10.58354    90.00000    90.00000    90.00000  PyEPFD-Step: 8 positions{angstrom} cell{angstrom}\n",
      "O         0.15367421      3.37338e-07        1.1571329\n",
      "O         0.15184276   -2.6639613e-07       -1.1571312\n",
      "C         0.15275848    3.5470314e-08   -1.5712733e-06\n",
      "3\n",
      "# CELL(abcABC):   10.58354    10.58354    10.58354    90.00000    90.00000    90.00000  PyEPFD-Step: 9 positions{angstrom} cell{angstrom}\n",
      "O     -1.9778686e-07     -0.052928795        1.1571328\n",
      "O      2.1686863e-08      -0.22031741       -1.1571313\n",
      "C     -8.8049775e-08      -0.13662328    -1.593362e-06\n",
      "3\n",
      "# CELL(abcABC):   10.58354    10.58354    10.58354    90.00000    90.00000    90.00000  PyEPFD-Step: 10 positions{angstrom} cell{angstrom}\n",
      "O      1.9778686e-07      0.052928795        1.1571328\n",
      "O     -2.1686863e-08       0.22031741       -1.1571312\n",
      "C      8.8049775e-08       0.13662328   -1.5817015e-06\n",
      "3\n",
      "# CELL(abcABC):   10.58354    10.58354    10.58354    90.00000    90.00000    90.00000  PyEPFD-Step: 11 positions{angstrom} cell{angstrom}\n",
      "O        0.016641655     0.0054577579        1.1571328\n",
      "O        0.016641724     0.0054577804       -1.1571312\n",
      "C       -0.044336641      -0.01454054   -1.5961057e-06\n",
      "3\n",
      "# CELL(abcABC):   10.58354    10.58354    10.58354    90.00000    90.00000    90.00000  PyEPFD-Step: 12 positions{angstrom} cell{angstrom}\n",
      "O       -0.016641655    -0.0054577579        1.1571329\n",
      "O       -0.016641724    -0.0054577804       -1.1571313\n",
      "C        0.044336641       0.01454054   -1.5789578e-06\n",
      "3\n",
      "# CELL(abcABC):   10.58354    10.58354    10.58354    90.00000    90.00000    90.00000  PyEPFD-Step: 13 positions{angstrom} cell{angstrom}\n",
      "O       0.0054577478     -0.016641625        1.1571328\n",
      "O       0.0054577703     -0.016641693       -1.1571312\n",
      "C       -0.014540513      0.044336559   -1.5914266e-06\n",
      "3\n",
      "# CELL(abcABC):   10.58354    10.58354    10.58354    90.00000    90.00000    90.00000  PyEPFD-Step: 14 positions{angstrom} cell{angstrom}\n",
      "O      -0.0054577478      0.016641625        1.1571328\n",
      "O      -0.0054577703      0.016641693       -1.1571313\n",
      "C        0.014540513     -0.044336559   -1.5836369e-06\n",
      "3\n",
      "# CELL(abcABC):   10.58354    10.58354    10.58354    90.00000    90.00000    90.00000  PyEPFD-Step: 15 positions{angstrom} cell{angstrom}\n",
      "O      5.1422293e-09     1.285583e-09        1.1731096\n",
      "O      5.1422505e-09    1.2855883e-09       -1.1731078\n",
      "C      -1.369991e-08    -3.425046e-09   -1.9321051e-06\n",
      "3\n",
      "# CELL(abcABC):   10.58354    10.58354    10.58354    90.00000    90.00000    90.00000  PyEPFD-Step: 16 positions{angstrom} cell{angstrom}\n",
      "O     -5.1422293e-09    -1.285583e-09         1.141156\n",
      "O     -5.1422505e-09   -1.2855883e-09       -1.1411547\n",
      "C       1.369991e-08     3.425046e-09   -1.2429584e-06\n",
      "3\n",
      "# CELL(abcABC):   10.58354    10.58354    10.58354    90.00000    90.00000    90.00000  PyEPFD-Step: 17 positions{angstrom} cell{angstrom}\n",
      "O     -9.5921236e-10     1.054293e-10        1.1619138\n",
      "O     -9.5921631e-10    1.0542974e-10         -1.15235\n",
      "C      2.5555303e-09   -2.8088439e-10     -0.012739473\n",
      "3\n",
      "# CELL(abcABC):   10.58354    10.58354    10.58354    90.00000    90.00000    90.00000  PyEPFD-Step: 18 positions{angstrom} cell{angstrom}\n",
      "O      9.5921236e-10    -1.054293e-10        1.1523518\n",
      "O      9.5921631e-10   -1.0542974e-10       -1.1619125\n",
      "C     -2.5555303e-09    2.8088439e-10      0.012736298\n"
     ]
    }
   ],
   "source": [
    "%%bash\n",
    "cat enmfd_phonon.xyz"
   ]
  },
  {
   "cell_type": "markdown",
   "id": "4589c4e8",
   "metadata": {},
   "source": [
    "The next step is to convert them into qbox input. This can be done using xyz2qb available in util/qbox_utils folder. This is shown in example 1.2.2"
   ]
  },
  {
   "cell_type": "code",
   "execution_count": null,
   "id": "62e52177",
   "metadata": {},
   "outputs": [],
   "source": []
  }
 ],
 "metadata": {
  "kernelspec": {
   "display_name": "Python 3 (ipykernel)",
   "language": "python",
   "name": "python3"
  },
  "language_info": {
   "codemirror_mode": {
    "name": "ipython",
    "version": 3
   },
   "file_extension": ".py",
   "mimetype": "text/x-python",
   "name": "python",
   "nbconvert_exporter": "python",
   "pygments_lexer": "ipython3",
   "version": "3.8.10"
  }
 },
 "nbformat": 4,
 "nbformat_minor": 5
}
